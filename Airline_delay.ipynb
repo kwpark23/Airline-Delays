{
  "cells": [
    {
      "cell_type": "markdown",
      "metadata": {
        "id": "view-in-github",
        "colab_type": "text"
      },
      "source": [
        "<a href=\"https://colab.research.google.com/github/kwpark23/Airline-Delays/blob/main/Airline_delay.ipynb\" target=\"_parent\"><img src=\"https://colab.research.google.com/assets/colab-badge.svg\" alt=\"Open In Colab\"/></a>"
      ]
    },
    {
      "cell_type": "markdown",
      "metadata": {
        "id": "PSM99ZgHkZGI"
      },
      "source": [
        "# 1.0 Introduction\n",
        "\n",
        "In the past summer, extreme traveller volumes and under-prepared by airlines and airport caused one of worst travelling experience in recent years. Hundreds of flights were cancelled that left thousands of travellers stranded in the airport. Toronto Pearson airport was ranked the worst airport in North America for flight dalays and cancellations (source: https://www.cnn.com/travel/article/worst-airports-delays-cancellations-summer-2022/index.html). Airlines like Air Canada lost millions of dollars for having to reschedule flights or rebook flights altogether for customers (source: https://www.theglobeandmail.com/business/article-air-canada-earnings-second-quarter-results/). Customers also lost a lot of money for having their plan derailed. \n",
        "\n",
        "If we are to avoid this type of problem in the future, what can we do? We can use the predictive power of machine learning algorithms to help predict whether a flight would be delayed. We can use the past data of flights that have been delayed and not delayed to train our Machine Learning model. \n",
        "\n",
        "Airlines and airports can benefit from such Machine Learning model and schedule flights accordingly to avoid possible dalays in the future. Travellers won't have to worry whether their flight might get delayed or not.  \n",
        "\n",
        "\n",
        "* **Dataset Used:** Airline delay dataset\n",
        "* **Description of the dataset:** Using Airline delay dataset (includes Air Canada) to determine if a flight is likely to be delayed (This problem affected a lot of Canadians this summer). \n",
        "* **Business Problem:** Using Machine Learning (Binary Classification), can airlines predict which flight is likely to be delayed, and therefore reroute schedules ahead to avoid bottlenecks at the airports? "
      ]
    },
    {
      "cell_type": "markdown",
      "metadata": {
        "id": "kseYt-LuWEgs"
      },
      "source": [
        "# 2.0 Basic Installation\n",
        "In this section, we install pycaret and the Kaggle dataset.  \n",
        "\n",
        "We will show:\n",
        "\n",
        "* **Setting Up Modules:** How to install pycaret, kaggle and other required modules\n",
        "* **Getting Data:**  How to import data from Kaggle website directly\n",
        "\n",
        "\n"
      ]
    },
    {
      "cell_type": "markdown",
      "metadata": {
        "id": "4O4src02Wrqj"
      },
      "source": [
        "1. First we will be installing Pycaret for ML data processing. "
      ]
    },
    {
      "cell_type": "code",
      "execution_count": null,
      "metadata": {
        "id": "KrL22KVwLCFH"
      },
      "outputs": [],
      "source": [
        "!pip install pycaret"
      ]
    },
    {
      "cell_type": "markdown",
      "metadata": {
        "id": "HNoFL3nfWx8b"
      },
      "source": [
        "2. Next, we will be installing Kaggle module and make a separate directory called kaggle (if the directory already exists, *mkdir* command won't do anything). "
      ]
    },
    {
      "cell_type": "code",
      "execution_count": null,
      "metadata": {
        "id": "RI1iNE2JTbqx"
      },
      "outputs": [],
      "source": [
        "\n",
        "! pip install kaggle"
      ]
    },
    {
      "cell_type": "markdown",
      "metadata": {
        "id": "W2wxHAKP7jyl"
      },
      "source": [
        "We need to create a directory inside ./root (current directory) called .kaggle"
      ]
    },
    {
      "cell_type": "code",
      "execution_count": null,
      "metadata": {
        "id": "x-A6L48kThg4"
      },
      "outputs": [],
      "source": [
        "mkdir ~/.kaggle"
      ]
    },
    {
      "cell_type": "markdown",
      "metadata": {
        "id": "ychOQq8q7rIV"
      },
      "source": [
        "### Important!! Following this instruction: https://www.analyticsvidhya.com/blog/2021/06/how-to-load-kaggle-datasets-directly-into-google-colab/\n",
        "\n",
        "### We need to download our API token to our desktop PC (or notebook). Then simply upload kaggle.jason to this notebook. \n"
      ]
    },
    {
      "cell_type": "code",
      "execution_count": null,
      "metadata": {
        "id": "ze15sIFljKAR"
      },
      "outputs": [],
      "source": [
        "cp kaggle.json ~/.kaggle/"
      ]
    },
    {
      "cell_type": "markdown",
      "metadata": {
        "id": "HxQmlSJRW4rL"
      },
      "source": [
        "3. To download kaggle dataset directly from Kaggle website, we need to have API Credential from the Kaggle account holder. I have used my API Credential for this project. I have already downloaded the credential and stored it inside /MyDrive/. \n",
        "\n",
        "Each time this Colab notebook runs, it will grab the credential from the directory, so we can fetch the dataset. "
      ]
    },
    {
      "cell_type": "code",
      "execution_count": null,
      "metadata": {
        "id": "Nr_h92w1Tpeo"
      },
      "outputs": [],
      "source": [
        "! chmod 600 ~/.kaggle/kaggle.json"
      ]
    },
    {
      "cell_type": "markdown",
      "metadata": {
        "id": "ScoMrUYsXslx"
      },
      "source": [
        "4. Now, we are ready to fetch the dataset from the website and unzip it. "
      ]
    },
    {
      "cell_type": "code",
      "execution_count": null,
      "metadata": {
        "id": "1RsyuVgvT9gA"
      },
      "outputs": [],
      "source": [
        "! kaggle datasets download jimschacko/airlines-dataset-to-predict-a-delay --force"
      ]
    },
    {
      "cell_type": "code",
      "execution_count": null,
      "metadata": {
        "id": "LuHPArJ5X0xQ"
      },
      "outputs": [],
      "source": [
        "! unzip airlines-dataset-to-predict-a-delay.zip"
      ]
    },
    {
      "cell_type": "markdown",
      "metadata": {
        "id": "I3Psj1IErMMM"
      },
      "source": [
        "## Note about the dataset: This dataset is from 2008, so some airlines have since been out of business or have been merged with other airlines"
      ]
    },
    {
      "cell_type": "code",
      "execution_count": null,
      "metadata": {
        "id": "_o6P00vlYkAQ"
      },
      "outputs": [],
      "source": [
        "! pip install pandas\n"
      ]
    },
    {
      "cell_type": "markdown",
      "metadata": {
        "id": "qGaf5LS6JllW"
      },
      "source": [
        "# 3.0 Data Analysis"
      ]
    },
    {
      "cell_type": "markdown",
      "metadata": {
        "id": "OE7rVqyNJqVT"
      },
      "source": [
        "### Panda Profiling"
      ]
    },
    {
      "cell_type": "markdown",
      "metadata": {
        "id": "Uw9znPa1YxPQ"
      },
      "source": [
        "5. We are now going to use pandas profiling function to generate a profile report on our dataset for data visualization and analysis\n",
        "\n",
        "Based on Pandas analysis we can deduce following details about our dataset:\n",
        "\n",
        "1. Dataset has no missing data or duplicate rows\n",
        "2. Time column is the departure time measured in minutes from midnight \n",
        "3. Length column is the duration of the flight in minutes \n",
        "4. Flight and Length shows negative correlation\n",
        "5. Time and Delay shows positive correlation (What we are interested in)\n",
        "6. Airline and Length shows positive correlation\n"
      ]
    },
    {
      "cell_type": "code",
      "execution_count": null,
      "metadata": {
        "colab": {
          "base_uri": "https://localhost:8080/",
          "height": 949
        },
        "id": "3HtTvsQTYFsh",
        "outputId": "ec024131-a8a5-4af9-b675-5cc3e2cd4f14"
      },
      "outputs": [],
      "source": [
        "import pandas as pd\n",
        "import pandas_profiling as pp \n",
        "\n",
        "\n",
        "dataset = pd.read_csv('/content/Airlines.csv')\n",
        "profile = pp.ProfileReport(dataset) \n",
        "profile.to_file(\"output.html\")\n",
        "profile"
      ]
    },
    {
      "cell_type": "code",
      "execution_count": null,
      "metadata": {
        "id": "tGCMdB9kFyOZ"
      },
      "outputs": [],
      "source": [
        "import matplotlib.pyplot as plt\n",
        "import numpy as np\n",
        "\n",
        "import seaborn as sns; sns.set_theme()"
      ]
    },
    {
      "cell_type": "markdown",
      "metadata": {
        "id": "xmtD1vYeUiRu"
      },
      "source": [
        "5. Once the dataset has been read, check the shape of the dataset upsing Pycaret's *shape* command "
      ]
    },
    {
      "cell_type": "markdown",
      "metadata": {
        "id": "MXPsR1aGJ9ZK"
      },
      "source": [
        "### Individual Feature Exploration\n",
        "\n",
        "\n"
      ]
    },
    {
      "cell_type": "code",
      "execution_count": null,
      "metadata": {
        "colab": {
          "base_uri": "https://localhost:8080/"
        },
        "id": "fbdRVpiNZGr4",
        "outputId": "4c8c9f0e-7f61-4213-cdc7-150f79229c6a"
      },
      "outputs": [
        {
          "data": {
            "text/plain": [
              "(539383, 9)"
            ]
          },
          "execution_count": 11,
          "metadata": {},
          "output_type": "execute_result"
        }
      ],
      "source": [
        "dataset.shape"
      ]
    },
    {
      "cell_type": "markdown",
      "metadata": {
        "id": "NQwxNcT2O3bh"
      },
      "source": [
        "We can see that there are over half a million data with nine features for this dataset"
      ]
    },
    {
      "cell_type": "markdown",
      "metadata": {
        "id": "07aZjKbFKPpy"
      },
      "source": [
        "#### Airlines"
      ]
    },
    {
      "cell_type": "code",
      "execution_count": null,
      "metadata": {
        "colab": {
          "base_uri": "https://localhost:8080/",
          "height": 484
        },
        "id": "mQOF8jH9KRF5",
        "outputId": "f5049d6b-8374-4c77-8afa-7dfddc5e683e"
      },
      "outputs": [
        {
          "name": "stdout",
          "output_type": "stream",
          "text": [
            "There is 18 unique airline companies.\n"
          ]
        },
        {
          "data": {
            "text/plain": [
              "count       18.000000\n",
              "mean     29965.722222\n",
              "std      22026.299042\n",
              "min       5578.000000\n",
              "25%      14821.750000\n",
              "50%      24368.500000\n",
              "75%      36078.750000\n",
              "max      94097.000000\n",
              "Name: id, dtype: float64"
            ]
          },
          "execution_count": 12,
          "metadata": {},
          "output_type": "execute_result"
        },
        {
          "data": {
            "image/png": "[encoded data removed]",
            "text/plain": [
              "<Figure size 432x288 with 1 Axes>"
            ]
          },
          "metadata": {},
          "output_type": "display_data"
        }
      ],
      "source": [
        "#how many unique values in 'Airline': 18\n",
        "Airlines = dataset.groupby('Airline')['id'].nunique()\n",
        "Airlines_count = Airlines.count()\n",
        "Airlines = Airlines.sort_values()\n",
        "\n",
        "print(\"There is \" + Airlines_count.astype(str) +  \" unique airline companies.\")\n",
        "\n",
        "ax_c = Airlines.plot.bar()\n",
        "ax_c.set_title('Number of flights per company')\n",
        "\n",
        "Airlines.describe()"
      ]
    },
    {
      "cell_type": "code",
      "execution_count": null,
      "metadata": {
        "colab": {
          "base_uri": "https://localhost:8080/",
          "height": 327
        },
        "id": "guOy8-ssLdm4",
        "outputId": "2b3a20aa-b253-4541-9a98-4dcc3cd5216f"
      },
      "outputs": [
        {
          "data": {
            "text/plain": [
              "Text(0, 0.5, '%')"
            ]
          },
          "execution_count": 13,
          "metadata": {},
          "output_type": "execute_result"
        },
        {
          "data": {
            "image/png": "[encoded data removed]",
            "text/plain": [
              "<Figure size 432x288 with 1 Axes>"
            ]
          },
          "metadata": {},
          "output_type": "display_data"
        }
      ],
      "source": [
        "df_a = dataset\n",
        "df_a_delay = Airlines = dataset.groupby('Airline')['Delay'].mean()\n",
        "df_a_delay = df_a_delay.reset_index()\n",
        "df_a_delay['Flights Delayed (%)'] = (df_a_delay['Delay'] *100).round(2)\n",
        "df_a_delay = df_a_delay.sort_values('Delay')\n",
        "df_a_delay = df_a_delay.drop(columns= 'Delay')\n",
        "\n",
        "df_a_delay.plot(kind = 'bar', x = 'Airline', title=\"Percentage Flights Delayed per Company\")\n",
        "plt.ylabel(\"%\")"
      ]
    },
    {
      "cell_type": "markdown",
      "metadata": {
        "id": "vhO3XrklLnXw"
      },
      "source": [
        "As we can see from Airlines analysis, Southwest Airline (WN) has the highest number of flights, as well as highest percentage of flight delays."
      ]
    },
    {
      "cell_type": "markdown",
      "metadata": {
        "id": "ZzxgfCMqMLOX"
      },
      "source": [
        "#### Time (of departure in minutes)"
      ]
    },
    {
      "cell_type": "code",
      "execution_count": null,
      "metadata": {
        "colab": {
          "base_uri": "https://localhost:8080/",
          "height": 322
        },
        "id": "IUkKZszzNpFd",
        "outputId": "7580eb9c-d769-4121-81ce-62b69afb49f7"
      },
      "outputs": [
        {
          "data": {
            "text/plain": [
              "Text(0.5, 1.0, 'Flights per Hour of Day')"
            ]
          },
          "execution_count": 14,
          "metadata": {},
          "output_type": "execute_result"
        },
        {
          "data": {
            "image/png": "[encoded data removed]",
            "text/plain": [
              "<Figure size 432x288 with 1 Axes>"
            ]
          },
          "metadata": {},
          "output_type": "display_data"
        }
      ],
      "source": [
        "df_time = dataset\n",
        "df_time['Hour_full'] = df_time['Time']/60\n",
        "df_time['Hour'] = df_time['Hour_full'].astype(int)\n",
        "df_time['Minutes'] = (df_time['Hour_full'] - (df_time['Hour'] ) )*60\n",
        "\n",
        "HourOfDay = df_time.groupby('Hour')['id'].nunique()\n",
        "HourOfDay.describe()\n",
        "\n",
        "HourDay = dataset.groupby('Hour')['id'].nunique()\n",
        "\n",
        "ax_h = HourDay.plot.bar()\n",
        "ax_h.set_title('Flights per Hour of Day')"
      ]
    },
    {
      "cell_type": "code",
      "execution_count": null,
      "metadata": {
        "colab": {
          "base_uri": "https://localhost:8080/",
          "height": 322
        },
        "id": "Xt5GIN-KOCrM",
        "outputId": "d207361c-2e86-4397-e1c4-de7ef6587914"
      },
      "outputs": [
        {
          "data": {
            "text/plain": [
              "<matplotlib.axes._subplots.AxesSubplot at 0x7fa8c0759bd0>"
            ]
          },
          "execution_count": 15,
          "metadata": {},
          "output_type": "execute_result"
        },
        {
          "data": {
            "image/png": "[encoded data removed]",
            "text/plain": [
              "<Figure size 432x288 with 1 Axes>"
            ]
          },
          "metadata": {},
          "output_type": "display_data"
        }
      ],
      "source": [
        "df_time1 = dataset\n",
        "df_time1['Hour_full'] = df_time1['Time']/60\n",
        "df_time1['Hour'] = df_time1['Hour_full'].astype(int)\n",
        "\n",
        "\n",
        "df_h_delay = Airlines = df_time1.groupby('Hour')['Delay'].mean()\n",
        "df_h_delay = df_h_delay.reset_index()\n",
        "\n",
        "df_h_delay['Flights Delayed (%)'] = (df_h_delay['Delay'] *100).round(2)\n",
        "df_h_delay = df_h_delay.drop(columns= 'Delay')\n",
        "df_h_delay.plot.bar(x = 'Hour', title=\"Percentage Flights Delayed per Hour of Day\" )"
      ]
    },
    {
      "cell_type": "markdown",
      "metadata": {
        "id": "smgt1Z7fOFtd"
      },
      "source": [
        "Here, we can see that most flight leave between 6AM and 7PM (19th hour). Also most delays occur on all time slots except for between 5AM and 8AM. "
      ]
    },
    {
      "cell_type": "markdown",
      "metadata": {
        "id": "uQJe5teaOpMs"
      },
      "source": [
        "#### Length of the Flight"
      ]
    },
    {
      "cell_type": "code",
      "execution_count": null,
      "metadata": {
        "colab": {
          "base_uri": "https://localhost:8080/",
          "height": 318
        },
        "id": "TNxH34TiOop8",
        "outputId": "03ca8aac-ade1-4848-fde7-77adf0f9f4b8"
      },
      "outputs": [
        {
          "data": {
            "text/plain": [
              "Text(0.5, 1.0, 'Delay Probability per Length of Flight (Hours)')"
            ]
          },
          "execution_count": 16,
          "metadata": {},
          "output_type": "execute_result"
        },
        {
          "data": {
            "image/png": "[encoded data removed]",
            "text/plain": [
              "<Figure size 432x288 with 1 Axes>"
            ]
          },
          "metadata": {},
          "output_type": "display_data"
        }
      ],
      "source": [
        "df_time_l = dataset\n",
        "df_time_l['Length_hour'] = df_time_l['Length']/60\n",
        "df_time_l['Length_hour'] = df_time_l['Length_hour'].round(1)\n",
        "\n",
        "df_l_delay = df_time_l.groupby('Length_hour')['Delay'].mean()\n",
        "df_l_delay = df_l_delay * 100\n",
        "ax_l = df_l_delay.plot()\n",
        "ax_l.set_title('Delay Probability per Length of Flight (Hours)')"
      ]
    },
    {
      "cell_type": "code",
      "execution_count": null,
      "metadata": {
        "colab": {
          "base_uri": "https://localhost:8080/"
        },
        "id": "YLbT31UmPBRr",
        "outputId": "349e6e91-349a-4932-9b83-84a874756fdf"
      },
      "outputs": [
        {
          "name": "stdout",
          "output_type": "stream",
          "text": [
            "44.54% of flights is delayed\n"
          ]
        }
      ],
      "source": [
        "#'Delay'\n",
        "delay_pct = round(df_time['Delay'].sum()/df_time['Delay'].count() * 100 , 2)\n",
        "delay_pct_w = delay_pct.astype(str)\n",
        "print(delay_pct_w +  '% of flights is delayed')"
      ]
    },
    {
      "cell_type": "markdown",
      "metadata": {
        "id": "hQthbQjbOyrM"
      },
      "source": [
        "Here, we can see that for longer flights, it is more likely that delay will occur, with some flights over 10 hours of flight reaching 100% chance of delay. Overall, 44.54% of all flights were delayed in our dataset. "
      ]
    },
    {
      "cell_type": "markdown",
      "metadata": {
        "id": "vHkk6I5WPYQj"
      },
      "source": [
        "#### Exploring data correlation"
      ]
    },
    {
      "cell_type": "code",
      "execution_count": null,
      "metadata": {
        "colab": {
          "base_uri": "https://localhost:8080/",
          "height": 331
        },
        "id": "FFAFrx6jPmHC",
        "outputId": "718052f7-eb15-4e56-c9e1-09bb772ebbb1"
      },
      "outputs": [
        {
          "data": {
            "image/png": "[encoded data removed]",
            "text/plain": [
              "<Figure size 432x288 with 2 Axes>"
            ]
          },
          "metadata": {},
          "output_type": "display_data"
        }
      ],
      "source": [
        "df_mat = dataset.drop(['id', 'Flight'], axis = 1)\n",
        "corrMatrix = df_mat.corr()\n",
        "sns.heatmap(corrMatrix, annot=True)\n",
        "plt.show()"
      ]
    },
    {
      "cell_type": "markdown",
      "metadata": {
        "id": "EZmQOkspP1Ez"
      },
      "source": [
        "Here, we can see that for 'delay' column, correlation is highest with: time of day, length of the flight (not much), and Day Of Week (even less) "
      ]
    },
    {
      "cell_type": "code",
      "execution_count": null,
      "metadata": {
        "colab": {
          "base_uri": "https://localhost:8080/",
          "height": 303
        },
        "id": "2_eTwW2pQtUJ",
        "outputId": "01fdde51-0fe7-4a27-c689-e452227dbbb8"
      },
      "outputs": [
        {
          "data": {
            "image/png": "[encoded data removed]",
            "text/plain": [
              "<Figure size 432x288 with 2 Axes>"
            ]
          },
          "metadata": {},
          "output_type": "display_data"
        }
      ],
      "source": [
        "df_time_l = dataset\n",
        "df_time_l['Length_hour'] = df_time_l['Length']/60\n",
        "df_time_l['Length_hour'] = df_time_l['Length_hour'].round(0)\n",
        "\n",
        "table_l = pd.pivot_table(df_time_l, values = 'Delay',  index=['Airline'], columns=['Length_hour'], aggfunc=np.mean)\n",
        "ax = sns.heatmap(table_l, linewidths=.5)"
      ]
    },
    {
      "cell_type": "markdown",
      "metadata": {
        "id": "JMzecm4QQxQZ"
      },
      "source": [
        "Here, for airlines with longer flights, delay might be more likely. "
      ]
    },
    {
      "cell_type": "markdown",
      "metadata": {
        "id": "GXMudMD0REQY"
      },
      "source": [
        "### Data split\n"
      ]
    },
    {
      "cell_type": "markdown",
      "metadata": {
        "id": "PWnBGZiCUsVU"
      },
      "source": [
        "6. Good Work! Now we have a working dataset for our ML training. Finally, make sure to set aside validation and test dataset to be used after ML training is done. "
      ]
    },
    {
      "cell_type": "code",
      "execution_count": null,
      "metadata": {
        "colab": {
          "base_uri": "https://localhost:8080/"
        },
        "id": "ZLwMNToUZPeR",
        "outputId": "cfa87b3b-5778-48b5-906c-3ef6a7b8885a"
      },
      "outputs": [
        {
          "name": "stdout",
          "output_type": "stream",
          "text": [
            "Data for Modeling: (512414, 13)\n",
            "Unseen Data For Predictions: (26969, 13)\n"
          ]
        }
      ],
      "source": [
        "data = dataset.sample(frac=0.95, random_state=786)\n",
        "data_unseen = dataset.drop(data.index)\n",
        "data.reset_index(inplace=True, drop=True)\n",
        "data_unseen.reset_index(inplace=True, drop=True)\n",
        "print('Data for Modeling: ' + str(data.shape))\n",
        "print('Unseen Data For Predictions: ' + str(data_unseen.shape))"
      ]
    },
    {
      "cell_type": "markdown",
      "metadata": {
        "id": "orZVN93NZXAP"
      },
      "source": [
        "# 4.0 Setting up Environment in PyCaret\n",
        "\n",
        "* **Setting Up our dataset pipeline:** We will be using `setup()` function initializes the environment in pycaret and creates the transformation pipeline to prepare the data for modeling and deployment."
      ]
    },
    {
      "cell_type": "code",
      "execution_count": null,
      "metadata": {
        "colab": {
          "base_uri": "https://localhost:8080/"
        },
        "id": "J1R7KcrvgRF2",
        "outputId": "d62a176f-8ea0-4d5e-f566-14fe6054468a"
      },
      "outputs": [
        {
          "name": "stdout",
          "output_type": "stream",
          "text": [
            "Looking in indexes: https://pypi.org/simple, https://us-python.pkg.dev/colab-wheels/public/simple/\n",
            "Requirement already satisfied: numpy in /usr/local/lib/python3.7/dist-packages (1.19.5)\n"
          ]
        }
      ],
      "source": [
        "! pip install numpy"
      ]
    },
    {
      "cell_type": "code",
      "execution_count": null,
      "metadata": {
        "id": "t-S5R_UQZzOh"
      },
      "outputs": [],
      "source": [
        "from pycaret.classification import *"
      ]
    },
    {
      "cell_type": "markdown",
      "metadata": {
        "id": "GSr2AomTa9cM"
      },
      "source": [
        "1. We are going to set up our ML environment and customize it by pre-processing pipeline using different parameteres.  "
      ]
    },
    {
      "cell_type": "code",
      "execution_count": null,
      "metadata": {
        "colab": {
          "background_save": true,
          "base_uri": "https://localhost:8080/",
          "height": 1000
        },
        "id": "bxb_cK4gZ2wP",
        "outputId": "21d6c664-618f-4cea-d6e3-cf24edc20966"
      },
      "outputs": [
        {
          "data": {
            "text/html": [
              "\n",
              "  <div id=\"df-ad624cbe-15bf-45a0-85a6-30ddaed5a25b\">\n",
              "    <div class=\"colab-df-container\">\n",
              "      <div>\n",
              "<style scoped>\n",
              "    .dataframe tbody tr th:only-of-type {\n",
              "        vertical-align: middle;\n",
              "    }\n",
              "\n",
              "    .dataframe tbody tr th {\n",
              "        vertical-align: top;\n",
              "    }\n",
              "\n",
              "    .dataframe thead th {\n",
              "        text-align: right;\n",
              "    }\n",
              "</style>\n",
              "<table border=\"1\" class=\"dataframe\">\n",
              "  <thead>\n",
              "    <tr style=\"text-align: right;\">\n",
              "      <th></th>\n",
              "      <th>Description</th>\n",
              "      <th>Value</th>\n",
              "    </tr>\n",
              "  </thead>\n",
              "  <tbody>\n",
              "    <tr>\n",
              "      <th>0</th>\n",
              "      <td>session_id</td>\n",
              "      <td>123</td>\n",
              "    </tr>\n",
              "    <tr>\n",
              "      <th>1</th>\n",
              "      <td>Target</td>\n",
              "      <td>Delay</td>\n",
              "    </tr>\n",
              "    <tr>\n",
              "      <th>2</th>\n",
              "      <td>Target Type</td>\n",
              "      <td>Binary</td>\n",
              "    </tr>\n",
              "    <tr>\n",
              "      <th>3</th>\n",
              "      <td>Label Encoded</td>\n",
              "      <td>None</td>\n",
              "    </tr>\n",
              "    <tr>\n",
              "      <th>4</th>\n",
              "      <td>Original Data</td>\n",
              "      <td>(512414, 13)</td>\n",
              "    </tr>\n",
              "    <tr>\n",
              "      <th>5</th>\n",
              "      <td>Missing Values</td>\n",
              "      <td>False</td>\n",
              "    </tr>\n",
              "    <tr>\n",
              "      <th>6</th>\n",
              "      <td>Numeric Features</td>\n",
              "      <td>8</td>\n",
              "    </tr>\n",
              "    <tr>\n",
              "      <th>7</th>\n",
              "      <td>Categorical Features</td>\n",
              "      <td>4</td>\n",
              "    </tr>\n",
              "    <tr>\n",
              "      <th>8</th>\n",
              "      <td>Ordinal Features</td>\n",
              "      <td>False</td>\n",
              "    </tr>\n",
              "    <tr>\n",
              "      <th>9</th>\n",
              "      <td>High Cardinality Features</td>\n",
              "      <td>False</td>\n",
              "    </tr>\n",
              "    <tr>\n",
              "      <th>10</th>\n",
              "      <td>High Cardinality Method</td>\n",
              "      <td>None</td>\n",
              "    </tr>\n",
              "    <tr>\n",
              "      <th>11</th>\n",
              "      <td>Transformed Train Set</td>\n",
              "      <td>(358689, 591)</td>\n",
              "    </tr>\n",
              "    <tr>\n",
              "      <th>12</th>\n",
              "      <td>Transformed Test Set</td>\n",
              "      <td>(153725, 591)</td>\n",
              "    </tr>\n",
              "    <tr>\n",
              "      <th>13</th>\n",
              "      <td>Shuffle Train-Test</td>\n",
              "      <td>True</td>\n",
              "    </tr>\n",
              "    <tr>\n",
              "      <th>14</th>\n",
              "      <td>Stratify Train-Test</td>\n",
              "      <td>False</td>\n",
              "    </tr>\n",
              "    <tr>\n",
              "      <th>15</th>\n",
              "      <td>Fold Generator</td>\n",
              "      <td>StratifiedKFold</td>\n",
              "    </tr>\n",
              "    <tr>\n",
              "      <th>16</th>\n",
              "      <td>Fold Number</td>\n",
              "      <td>10</td>\n",
              "    </tr>\n",
              "    <tr>\n",
              "      <th>17</th>\n",
              "      <td>CPU Jobs</td>\n",
              "      <td>-1</td>\n",
              "    </tr>\n",
              "    <tr>\n",
              "      <th>18</th>\n",
              "      <td>Use GPU</td>\n",
              "      <td>True</td>\n",
              "    </tr>\n",
              "    <tr>\n",
              "      <th>19</th>\n",
              "      <td>Log Experiment</td>\n",
              "      <td>False</td>\n",
              "    </tr>\n",
              "    <tr>\n",
              "      <th>20</th>\n",
              "      <td>Experiment Name</td>\n",
              "      <td>airlinedelays</td>\n",
              "    </tr>\n",
              "    <tr>\n",
              "      <th>21</th>\n",
              "      <td>USI</td>\n",
              "      <td>1954</td>\n",
              "    </tr>\n",
              "    <tr>\n",
              "      <th>22</th>\n",
              "      <td>Imputation Type</td>\n",
              "      <td>simple</td>\n",
              "    </tr>\n",
              "    <tr>\n",
              "      <th>23</th>\n",
              "      <td>Iterative Imputation Iteration</td>\n",
              "      <td>None</td>\n",
              "    </tr>\n",
              "    <tr>\n",
              "      <th>24</th>\n",
              "      <td>Numeric Imputer</td>\n",
              "      <td>mean</td>\n",
              "    </tr>\n",
              "    <tr>\n",
              "      <th>25</th>\n",
              "      <td>Iterative Imputation Numeric Model</td>\n",
              "      <td>None</td>\n",
              "    </tr>\n",
              "    <tr>\n",
              "      <th>26</th>\n",
              "      <td>Categorical Imputer</td>\n",
              "      <td>constant</td>\n",
              "    </tr>\n",
              "    <tr>\n",
              "      <th>27</th>\n",
              "      <td>Iterative Imputation Categorical Model</td>\n",
              "      <td>None</td>\n",
              "    </tr>\n",
              "    <tr>\n",
              "      <th>28</th>\n",
              "      <td>Unknown Categoricals Handling</td>\n",
              "      <td>least_frequent</td>\n",
              "    </tr>\n",
              "    <tr>\n",
              "      <th>29</th>\n",
              "      <td>Normalize</td>\n",
              "      <td>True</td>\n",
              "    </tr>\n",
              "    <tr>\n",
              "      <th>30</th>\n",
              "      <td>Normalize Method</td>\n",
              "      <td>zscore</td>\n",
              "    </tr>\n",
              "    <tr>\n",
              "      <th>31</th>\n",
              "      <td>Transformation</td>\n",
              "      <td>True</td>\n",
              "    </tr>\n",
              "    <tr>\n",
              "      <th>32</th>\n",
              "      <td>Transformation Method</td>\n",
              "      <td>yeo-johnson</td>\n",
              "    </tr>\n",
              "    <tr>\n",
              "      <th>33</th>\n",
              "      <td>PCA</td>\n",
              "      <td>False</td>\n",
              "    </tr>\n",
              "    <tr>\n",
              "      <th>34</th>\n",
              "      <td>PCA Method</td>\n",
              "      <td>None</td>\n",
              "    </tr>\n",
              "    <tr>\n",
              "      <th>35</th>\n",
              "      <td>PCA Components</td>\n",
              "      <td>None</td>\n",
              "    </tr>\n",
              "    <tr>\n",
              "      <th>36</th>\n",
              "      <td>Ignore Low Variance</td>\n",
              "      <td>True</td>\n",
              "    </tr>\n",
              "    <tr>\n",
              "      <th>37</th>\n",
              "      <td>Combine Rare Levels</td>\n",
              "      <td>False</td>\n",
              "    </tr>\n",
              "    <tr>\n",
              "      <th>38</th>\n",
              "      <td>Rare Level Threshold</td>\n",
              "      <td>None</td>\n",
              "    </tr>\n",
              "    <tr>\n",
              "      <th>39</th>\n",
              "      <td>Numeric Binning</td>\n",
              "      <td>False</td>\n",
              "    </tr>\n",
              "    <tr>\n",
              "      <th>40</th>\n",
              "      <td>Remove Outliers</td>\n",
              "      <td>False</td>\n",
              "    </tr>\n",
              "    <tr>\n",
              "      <th>41</th>\n",
              "      <td>Outliers Threshold</td>\n",
              "      <td>None</td>\n",
              "    </tr>\n",
              "    <tr>\n",
              "      <th>42</th>\n",
              "      <td>Remove Multicollinearity</td>\n",
              "      <td>True</td>\n",
              "    </tr>\n",
              "    <tr>\n",
              "      <th>43</th>\n",
              "      <td>Multicollinearity Threshold</td>\n",
              "      <td>0.95</td>\n",
              "    </tr>\n",
              "    <tr>\n",
              "      <th>44</th>\n",
              "      <td>Remove Perfect Collinearity</td>\n",
              "      <td>True</td>\n",
              "    </tr>\n",
              "    <tr>\n",
              "      <th>45</th>\n",
              "      <td>Clustering</td>\n",
              "      <td>False</td>\n",
              "    </tr>\n",
              "    <tr>\n",
              "      <th>46</th>\n",
              "      <td>Clustering Iteration</td>\n",
              "      <td>None</td>\n",
              "    </tr>\n",
              "    <tr>\n",
              "      <th>47</th>\n",
              "      <td>Polynomial Features</td>\n",
              "      <td>False</td>\n",
              "    </tr>\n",
              "    <tr>\n",
              "      <th>48</th>\n",
              "      <td>Polynomial Degree</td>\n",
              "      <td>None</td>\n",
              "    </tr>\n",
              "    <tr>\n",
              "      <th>49</th>\n",
              "      <td>Trignometry Features</td>\n",
              "      <td>False</td>\n",
              "    </tr>\n",
              "    <tr>\n",
              "      <th>50</th>\n",
              "      <td>Polynomial Threshold</td>\n",
              "      <td>None</td>\n",
              "    </tr>\n",
              "    <tr>\n",
              "      <th>51</th>\n",
              "      <td>Group Features</td>\n",
              "      <td>False</td>\n",
              "    </tr>\n",
              "    <tr>\n",
              "      <th>52</th>\n",
              "      <td>Feature Selection</td>\n",
              "      <td>False</td>\n",
              "    </tr>\n",
              "    <tr>\n",
              "      <th>53</th>\n",
              "      <td>Feature Selection Method</td>\n",
              "      <td>classic</td>\n",
              "    </tr>\n",
              "    <tr>\n",
              "      <th>54</th>\n",
              "      <td>Features Selection Threshold</td>\n",
              "      <td>None</td>\n",
              "    </tr>\n",
              "    <tr>\n",
              "      <th>55</th>\n",
              "      <td>Feature Interaction</td>\n",
              "      <td>False</td>\n",
              "    </tr>\n",
              "    <tr>\n",
              "      <th>56</th>\n",
              "      <td>Feature Ratio</td>\n",
              "      <td>False</td>\n",
              "    </tr>\n",
              "    <tr>\n",
              "      <th>57</th>\n",
              "      <td>Interaction Threshold</td>\n",
              "      <td>None</td>\n",
              "    </tr>\n",
              "    <tr>\n",
              "      <th>58</th>\n",
              "      <td>Fix Imbalance</td>\n",
              "      <td>False</td>\n",
              "    </tr>\n",
              "    <tr>\n",
              "      <th>59</th>\n",
              "      <td>Fix Imbalance Method</td>\n",
              "      <td>SMOTE</td>\n",
              "    </tr>\n",
              "  </tbody>\n",
              "</table>\n",
              "</div>\n",
              "      <button class=\"colab-df-convert\" onclick=\"convertToInteractive('df-ad624cbe-15bf-45a0-85a6-30ddaed5a25b')\"\n",
              "              title=\"Convert this dataframe to an interactive table.\"\n",
              "              style=\"display:none;\">\n",
              "        \n",
              "  <svg xmlns=\"http://www.w3.org/2000/svg\" height=\"24px\"viewBox=\"0 0 24 24\"\n",
              "       width=\"24px\">\n",
              "    <path d=\"M0 0h24v24H0V0z\" fill=\"none\"/>\n",
              "    <path d=\"M18.56 5.44l.94 2.06.94-2.06 2.06-.94-2.06-.94-.94-2.06-.94 2.06-2.06.94zm-11 1L8.5 8.5l.94-2.06 2.06-.94-2.06-.94L8.5 2.5l-.94 2.06-2.06.94zm10 10l.94 2.06.94-2.06 2.06-.94-2.06-.94-.94-2.06-.94 2.06-2.06.94z\"/><path d=\"M17.41 7.96l-1.37-1.37c-.4-.4-.92-.59-1.43-.59-.52 0-1.04.2-1.43.59L10.3 9.45l-7.72 7.72c-.78.78-.78 2.05 0 2.83L4 21.41c.39.39.9.59 1.41.59.51 0 1.02-.2 1.41-.59l7.78-7.78 2.81-2.81c.8-.78.8-2.07 0-2.86zM5.41 20L4 18.59l7.72-7.72 1.47 1.35L5.41 20z\"/>\n",
              "  </svg>\n",
              "      </button>\n",
              "      \n",
              "  <style>\n",
              "    .colab-df-container {\n",
              "      display:flex;\n",
              "      flex-wrap:wrap;\n",
              "      gap: 12px;\n",
              "    }\n",
              "\n",
              "    .colab-df-convert {\n",
              "      background-color: #E8F0FE;\n",
              "      border: none;\n",
              "      border-radius: 50%;\n",
              "      cursor: pointer;\n",
              "      display: none;\n",
              "      fill: #1967D2;\n",
              "      height: 32px;\n",
              "      padding: 0 0 0 0;\n",
              "      width: 32px;\n",
              "    }\n",
              "\n",
              "    .colab-df-convert:hover {\n",
              "      background-color: #E2EBFA;\n",
              "      box-shadow: 0px 1px 2px rgba(60, 64, 67, 0.3), 0px 1px 3px 1px rgba(60, 64, 67, 0.15);\n",
              "      fill: #174EA6;\n",
              "    }\n",
              "\n",
              "    [theme=dark] .colab-df-convert {\n",
              "      background-color: #3B4455;\n",
              "      fill: #D2E3FC;\n",
              "    }\n",
              "\n",
              "    [theme=dark] .colab-df-convert:hover {\n",
              "      background-color: #434B5C;\n",
              "      box-shadow: 0px 1px 3px 1px rgba(0, 0, 0, 0.15);\n",
              "      filter: drop-shadow(0px 1px 2px rgba(0, 0, 0, 0.3));\n",
              "      fill: #FFFFFF;\n",
              "    }\n",
              "  </style>\n",
              "\n",
              "      <script>\n",
              "        const buttonEl =\n",
              "          document.querySelector('#df-ad624cbe-15bf-45a0-85a6-30ddaed5a25b button.colab-df-convert');\n",
              "        buttonEl.style.display =\n",
              "          google.colab.kernel.accessAllowed ? 'block' : 'none';\n",
              "\n",
              "        async function convertToInteractive(key) {\n",
              "          const element = document.querySelector('#df-ad624cbe-15bf-45a0-85a6-30ddaed5a25b');\n",
              "          const dataTable =\n",
              "            await google.colab.kernel.invokeFunction('convertToInteractive',\n",
              "                                                     [key], {});\n",
              "          if (!dataTable) return;\n",
              "\n",
              "          const docLinkHtml = 'Like what you see? Visit the ' +\n",
              "            '<a target=\"_blank\" href=https://colab.research.google.com/notebooks/data_table.ipynb>data table notebook</a>'\n",
              "            + ' to learn more about interactive tables.';\n",
              "          element.innerHTML = '';\n",
              "          dataTable['output_type'] = 'display_data';\n",
              "          await google.colab.output.renderOutput(dataTable, element);\n",
              "          const docLink = document.createElement('div');\n",
              "          docLink.innerHTML = docLinkHtml;\n",
              "          element.appendChild(docLink);\n",
              "        }\n",
              "      </script>\n",
              "    </div>\n",
              "  </div>\n",
              "  "
            ],
            "text/plain": [
              "                               Description            Value\n",
              "0                               session_id              123\n",
              "1                                   Target            Delay\n",
              "2                              Target Type           Binary\n",
              "3                            Label Encoded             None\n",
              "4                            Original Data     (512414, 13)\n",
              "5                           Missing Values            False\n",
              "6                         Numeric Features                8\n",
              "7                     Categorical Features                4\n",
              "8                         Ordinal Features            False\n",
              "9                High Cardinality Features            False\n",
              "10                 High Cardinality Method             None\n",
              "11                   Transformed Train Set    (358689, 591)\n",
              "12                    Transformed Test Set    (153725, 591)\n",
              "13                      Shuffle Train-Test             True\n",
              "14                     Stratify Train-Test            False\n",
              "15                          Fold Generator  StratifiedKFold\n",
              "16                             Fold Number               10\n",
              "17                                CPU Jobs               -1\n",
              "18                                 Use GPU             True\n",
              "19                          Log Experiment            False\n",
              "20                         Experiment Name    airlinedelays\n",
              "21                                     USI             1954\n",
              "22                         Imputation Type           simple\n",
              "23          Iterative Imputation Iteration             None\n",
              "24                         Numeric Imputer             mean\n",
              "25      Iterative Imputation Numeric Model             None\n",
              "26                     Categorical Imputer         constant\n",
              "27  Iterative Imputation Categorical Model             None\n",
              "28           Unknown Categoricals Handling   least_frequent\n",
              "29                               Normalize             True\n",
              "30                        Normalize Method           zscore\n",
              "31                          Transformation             True\n",
              "32                   Transformation Method      yeo-johnson\n",
              "33                                     PCA            False\n",
              "34                              PCA Method             None\n",
              "35                          PCA Components             None\n",
              "36                     Ignore Low Variance             True\n",
              "37                     Combine Rare Levels            False\n",
              "38                    Rare Level Threshold             None\n",
              "39                         Numeric Binning            False\n",
              "40                         Remove Outliers            False\n",
              "41                      Outliers Threshold             None\n",
              "42                Remove Multicollinearity             True\n",
              "43             Multicollinearity Threshold             0.95\n",
              "44             Remove Perfect Collinearity             True\n",
              "45                              Clustering            False\n",
              "46                    Clustering Iteration             None\n",
              "47                     Polynomial Features            False\n",
              "48                       Polynomial Degree             None\n",
              "49                    Trignometry Features            False\n",
              "50                    Polynomial Threshold             None\n",
              "51                          Group Features            False\n",
              "52                       Feature Selection            False\n",
              "53                Feature Selection Method          classic\n",
              "54            Features Selection Threshold             None\n",
              "55                     Feature Interaction            False\n",
              "56                           Feature Ratio            False\n",
              "57                   Interaction Threshold             None\n",
              "58                           Fix Imbalance            False\n",
              "59                    Fix Imbalance Method            SMOTE"
            ]
          },
          "metadata": {},
          "output_type": "display_data"
        },
        {
          "name": "stderr",
          "output_type": "stream",
          "text": [
            "INFO:logs:create_model_container: 0\n",
            "INFO:logs:master_model_container: 0\n",
            "INFO:logs:display_container: 1\n",
            "INFO:logs:Pipeline(memory=None,\n",
            "         steps=[('dtypes',\n",
            "                 DataTypes_Auto_infer(categorical_features=[],\n",
            "                                      display_types=True, features_todrop=[],\n",
            "                                      id_columns=[],\n",
            "                                      ml_usecase='classification',\n",
            "                                      numerical_features=[], target='Delay',\n",
            "                                      time_features=[])),\n",
            "                ('imputer',\n",
            "                 Simple_Imputer(categorical_strategy='not_available',\n",
            "                                fill_value_categorical=None,\n",
            "                                fill_value_numerical=None,\n",
            "                                numeric_strate...\n",
            "                ('dummy', Dummify(target='Delay')),\n",
            "                ('fix_perfect', Remove_100(target='Delay')),\n",
            "                ('clean_names', Clean_Colum_Names()),\n",
            "                ('feature_select', 'passthrough'),\n",
            "                ('fix_multi',\n",
            "                 Fix_multicollinearity(correlation_with_target_preference=None,\n",
            "                                       correlation_with_target_threshold=0.0,\n",
            "                                       target_variable='Delay',\n",
            "                                       threshold=0.95)),\n",
            "                ('dfs', 'passthrough'), ('pca', 'passthrough')],\n",
            "         verbose=False)\n",
            "INFO:logs:setup() succesfully completed......................................\n"
          ]
        }
      ],
      "source": [
        "exp_clf101 = setup(data = data, target = 'Delay', session_id=123,\n",
        "                  normalize = True, \n",
        "                  transformation = True, \n",
        "                  ignore_low_variance = True,\n",
        "                  remove_multicollinearity = True, multicollinearity_threshold = 0.95,\n",
        "                  log_experiment = False, experiment_name = 'airlinedelays', use_gpu=True) "
      ]
    },
    {
      "cell_type": "markdown",
      "metadata": {
        "id": "Cw0NiAJ2a2KO"
      },
      "source": [
        "A few important things to note regarding the dataset:\n",
        "- **Target Type :**  Target type for this dataset is binary (1 or 0)<br/>\n",
        "<br/>\n",
        "- **Original Data :**  Displays the original shape of the dataset. In this experiment (512414, 9) means 512414 samples and 9 features including the target column. <br/>\n",
        "<br/>\n"
      ]
    },
    {
      "cell_type": "markdown",
      "metadata": {
        "id": "mBP-jLVLbvib"
      },
      "source": [
        "# 5.0 Comparing All Models"
      ]
    },
    {
      "cell_type": "markdown",
      "metadata": {
        "id": "vLy1xwy3exzQ"
      },
      "source": [
        "Candidates for our model are as follows:\n",
        "\n",
        "1. Random Forest ('rf')\n",
        "Pro: robust to outliers, works well with non-linear data, lower risk of overfitting, runs well with large dataset, better accuracy than other classification algorithms\n",
        "Con: found to be biased with dealing with categorical variables, slow training\n",
        "\n",
        "2. Logistic regression ('lr')\n",
        "Pro:fast at clasifying unkown records, good accuracy for many simple data sets\n",
        "Con: assumes linearity between dependent variables and independent variables, non-linear problems can't be solved with logistic regression, Neural Network can outperform this algorithm\n",
        "\n",
        "3. Linear Discriminant Analysis ('lda')\n",
        "Pro: Could be better alternative to logistic regression, simple and fast\n",
        "Con: requires normal distribution assumption on features\n",
        "\n",
        "4. Ada Boost Classifier ('ada')\n",
        "Pro: requires less parameter tweaking than SVM, no overfitting, improved accuracy\n",
        "Con: sensitive to noises"
      ]
    },
    {
      "cell_type": "code",
      "execution_count": null,
      "metadata": {
        "colab": {
          "background_save": true,
          "base_uri": "https://localhost:8080/",
          "height": 383
        },
        "id": "IgLZOiqqbq1E",
        "outputId": "2afeecc1-c37f-4a74-f2b8-fa8b3b2ba082"
      },
      "outputs": [
        {
          "data": {
            "text/html": [
              "\n",
              "  <div id=\"df-fed3a056-ab31-4be7-af3f-1859dabbbc26\">\n",
              "    <div class=\"colab-df-container\">\n",
              "      <div>\n",
              "<style scoped>\n",
              "    .dataframe tbody tr th:only-of-type {\n",
              "        vertical-align: middle;\n",
              "    }\n",
              "\n",
              "    .dataframe tbody tr th {\n",
              "        vertical-align: top;\n",
              "    }\n",
              "\n",
              "    .dataframe thead th {\n",
              "        text-align: right;\n",
              "    }\n",
              "</style>\n",
              "<table border=\"1\" class=\"dataframe\">\n",
              "  <thead>\n",
              "    <tr style=\"text-align: right;\">\n",
              "      <th></th>\n",
              "      <th>Model</th>\n",
              "      <th>Accuracy</th>\n",
              "      <th>AUC</th>\n",
              "      <th>Recall</th>\n",
              "      <th>Prec.</th>\n",
              "      <th>F1</th>\n",
              "      <th>Kappa</th>\n",
              "      <th>MCC</th>\n",
              "      <th>TT (Sec)</th>\n",
              "    </tr>\n",
              "  </thead>\n",
              "  <tbody>\n",
              "    <tr>\n",
              "      <th>rf</th>\n",
              "      <td>Random Forest Classifier</td>\n",
              "      <td>0.6756</td>\n",
              "      <td>0.7333</td>\n",
              "      <td>0.5685</td>\n",
              "      <td>0.6559</td>\n",
              "      <td>0.6091</td>\n",
              "      <td>0.3342</td>\n",
              "      <td>0.3367</td>\n",
              "      <td>225.10</td>\n",
              "    </tr>\n",
              "    <tr>\n",
              "      <th>ada</th>\n",
              "      <td>Ada Boost Classifier</td>\n",
              "      <td>0.6587</td>\n",
              "      <td>0.7120</td>\n",
              "      <td>0.5375</td>\n",
              "      <td>0.6380</td>\n",
              "      <td>0.5834</td>\n",
              "      <td>0.2979</td>\n",
              "      <td>0.3011</td>\n",
              "      <td>62.96</td>\n",
              "    </tr>\n",
              "    <tr>\n",
              "      <th>lr</th>\n",
              "      <td>Logistic Regression</td>\n",
              "      <td>0.6550</td>\n",
              "      <td>0.7058</td>\n",
              "      <td>0.5181</td>\n",
              "      <td>0.6380</td>\n",
              "      <td>0.5718</td>\n",
              "      <td>0.2881</td>\n",
              "      <td>0.2925</td>\n",
              "      <td>98.52</td>\n",
              "    </tr>\n",
              "    <tr>\n",
              "      <th>lda</th>\n",
              "      <td>Linear Discriminant Analysis</td>\n",
              "      <td>0.6547</td>\n",
              "      <td>0.7054</td>\n",
              "      <td>0.5129</td>\n",
              "      <td>0.6392</td>\n",
              "      <td>0.5691</td>\n",
              "      <td>0.2868</td>\n",
              "      <td>0.2916</td>\n",
              "      <td>41.56</td>\n",
              "    </tr>\n",
              "  </tbody>\n",
              "</table>\n",
              "</div>\n",
              "      <button class=\"colab-df-convert\" onclick=\"convertToInteractive('df-fed3a056-ab31-4be7-af3f-1859dabbbc26')\"\n",
              "              title=\"Convert this dataframe to an interactive table.\"\n",
              "              style=\"display:none;\">\n",
              "        \n",
              "  <svg xmlns=\"http://www.w3.org/2000/svg\" height=\"24px\"viewBox=\"0 0 24 24\"\n",
              "       width=\"24px\">\n",
              "    <path d=\"M0 0h24v24H0V0z\" fill=\"none\"/>\n",
              "    <path d=\"M18.56 5.44l.94 2.06.94-2.06 2.06-.94-2.06-.94-.94-2.06-.94 2.06-2.06.94zm-11 1L8.5 8.5l.94-2.06 2.06-.94-2.06-.94L8.5 2.5l-.94 2.06-2.06.94zm10 10l.94 2.06.94-2.06 2.06-.94-2.06-.94-.94-2.06-.94 2.06-2.06.94z\"/><path d=\"M17.41 7.96l-1.37-1.37c-.4-.4-.92-.59-1.43-.59-.52 0-1.04.2-1.43.59L10.3 9.45l-7.72 7.72c-.78.78-.78 2.05 0 2.83L4 21.41c.39.39.9.59 1.41.59.51 0 1.02-.2 1.41-.59l7.78-7.78 2.81-2.81c.8-.78.8-2.07 0-2.86zM5.41 20L4 18.59l7.72-7.72 1.47 1.35L5.41 20z\"/>\n",
              "  </svg>\n",
              "      </button>\n",
              "      \n",
              "  <style>\n",
              "    .colab-df-container {\n",
              "      display:flex;\n",
              "      flex-wrap:wrap;\n",
              "      gap: 12px;\n",
              "    }\n",
              "\n",
              "    .colab-df-convert {\n",
              "      background-color: #E8F0FE;\n",
              "      border: none;\n",
              "      border-radius: 50%;\n",
              "      cursor: pointer;\n",
              "      display: none;\n",
              "      fill: #1967D2;\n",
              "      height: 32px;\n",
              "      padding: 0 0 0 0;\n",
              "      width: 32px;\n",
              "    }\n",
              "\n",
              "    .colab-df-convert:hover {\n",
              "      background-color: #E2EBFA;\n",
              "      box-shadow: 0px 1px 2px rgba(60, 64, 67, 0.3), 0px 1px 3px 1px rgba(60, 64, 67, 0.15);\n",
              "      fill: #174EA6;\n",
              "    }\n",
              "\n",
              "    [theme=dark] .colab-df-convert {\n",
              "      background-color: #3B4455;\n",
              "      fill: #D2E3FC;\n",
              "    }\n",
              "\n",
              "    [theme=dark] .colab-df-convert:hover {\n",
              "      background-color: #434B5C;\n",
              "      box-shadow: 0px 1px 3px 1px rgba(0, 0, 0, 0.15);\n",
              "      filter: drop-shadow(0px 1px 2px rgba(0, 0, 0, 0.3));\n",
              "      fill: #FFFFFF;\n",
              "    }\n",
              "  </style>\n",
              "\n",
              "      <script>\n",
              "        const buttonEl =\n",
              "          document.querySelector('#df-fed3a056-ab31-4be7-af3f-1859dabbbc26 button.colab-df-convert');\n",
              "        buttonEl.style.display =\n",
              "          google.colab.kernel.accessAllowed ? 'block' : 'none';\n",
              "\n",
              "        async function convertToInteractive(key) {\n",
              "          const element = document.querySelector('#df-fed3a056-ab31-4be7-af3f-1859dabbbc26');\n",
              "          const dataTable =\n",
              "            await google.colab.kernel.invokeFunction('convertToInteractive',\n",
              "                                                     [key], {});\n",
              "          if (!dataTable) return;\n",
              "\n",
              "          const docLinkHtml = 'Like what you see? Visit the ' +\n",
              "            '<a target=\"_blank\" href=https://colab.research.google.com/notebooks/data_table.ipynb>data table notebook</a>'\n",
              "            + ' to learn more about interactive tables.';\n",
              "          element.innerHTML = '';\n",
              "          dataTable['output_type'] = 'display_data';\n",
              "          await google.colab.output.renderOutput(dataTable, element);\n",
              "          const docLink = document.createElement('div');\n",
              "          docLink.innerHTML = docLinkHtml;\n",
              "          element.appendChild(docLink);\n",
              "        }\n",
              "      </script>\n",
              "    </div>\n",
              "  </div>\n",
              "  "
            ],
            "text/plain": [
              "                            Model  Accuracy     AUC  Recall   Prec.      F1  \\\n",
              "rf       Random Forest Classifier    0.6756  0.7333  0.5685  0.6559  0.6091   \n",
              "ada          Ada Boost Classifier    0.6587  0.7120  0.5375  0.6380  0.5834   \n",
              "lr            Logistic Regression    0.6550  0.7058  0.5181  0.6380  0.5718   \n",
              "lda  Linear Discriminant Analysis    0.6547  0.7054  0.5129  0.6392  0.5691   \n",
              "\n",
              "      Kappa     MCC  TT (Sec)  \n",
              "rf   0.3342  0.3367    225.10  \n",
              "ada  0.2979  0.3011     62.96  \n",
              "lr   0.2881  0.2925     98.52  \n",
              "lda  0.2868  0.2916     41.56  "
            ]
          },
          "metadata": {},
          "output_type": "display_data"
        },
        {
          "name": "stderr",
          "output_type": "stream",
          "text": [
            "INFO:logs:create_model_container: 4\n",
            "INFO:logs:master_model_container: 4\n",
            "INFO:logs:display_container: 2\n",
            "INFO:logs:RandomForestClassifier(bootstrap=True, ccp_alpha=0.0, class_weight=None,\n",
            "                       criterion='gini', max_depth=None, max_features='auto',\n",
            "                       max_leaf_nodes=None, max_samples=None,\n",
            "                       min_impurity_decrease=0.0, min_impurity_split=None,\n",
            "                       min_samples_leaf=1, min_samples_split=2,\n",
            "                       min_weight_fraction_leaf=0.0, n_estimators=100,\n",
            "                       n_jobs=-1, oob_score=False, random_state=123, verbose=0,\n",
            "                       warm_start=False)\n",
            "INFO:logs:compare_models() succesfully completed......................................\n"
          ]
        }
      ],
      "source": [
        "best_model = compare_models(include = ['ada', 'rf', 'lda', 'lr'], fold=2)"
      ]
    },
    {
      "cell_type": "code",
      "execution_count": null,
      "metadata": {
        "colab": {
          "background_save": true,
          "base_uri": "https://localhost:8080/"
        },
        "id": "biqsQ3wiojLS",
        "outputId": "bc0a0803-3de4-42e4-eef1-2ab581ccadcd"
      },
      "outputs": [
        {
          "name": "stdout",
          "output_type": "stream",
          "text": [
            "RandomForestClassifier(bootstrap=True, ccp_alpha=0.0, class_weight=None,\n",
            "                       criterion='gini', max_depth=None, max_features='auto',\n",
            "                       max_leaf_nodes=None, max_samples=None,\n",
            "                       min_impurity_decrease=0.0, min_impurity_split=None,\n",
            "                       min_samples_leaf=1, min_samples_split=2,\n",
            "                       min_weight_fraction_leaf=0.0, n_estimators=100,\n",
            "                       n_jobs=-1, oob_score=False, random_state=123, verbose=0,\n",
            "                       warm_start=False)\n"
          ]
        }
      ],
      "source": [
        "print(best_model)"
      ]
    },
    {
      "cell_type": "markdown",
      "metadata": {
        "id": "h2ZVHOWx8pSM"
      },
      "source": [
        "Based on the result, it seems that Random Forest Classifier has the best accuracy. "
      ]
    },
    {
      "cell_type": "markdown",
      "metadata": {
        "id": "blHfqR41oyNh"
      },
      "source": [
        "# 6.0 Ensembling Models\n",
        "Ensemble methods are techniques that create multiple models and then combine them to produce improved results. Ensemble methods usually produces more accurate solutions than a single model would. We are going to try a number of different techniques to find the model with highest accuracy. "
      ]
    },
    {
      "cell_type": "markdown",
      "metadata": {
        "id": "QmgnW-lYKmtf"
      },
      "source": [
        "### Bagging and boosting\n",
        "Bagging is used with decision trees, where it significantly raises the stability of models in improving accuracy and reducing variance, which eliminates the challenge of overfitting.\n",
        "\n",
        "Boosting combines a set of weak learners into a strong learner to minimize training errors. In boosting, a random sample of data is selected, fitted with a model and then trained sequentially — that is, each model tries to compensate for the weaknesses of its predecessor. With each iteration, the weak rules from each individual classifier are combined to form one, strong prediction rule. "
      ]
    },
    {
      "cell_type": "code",
      "execution_count": null,
      "metadata": {
        "colab": {
          "background_save": true,
          "base_uri": "https://localhost:8080/",
          "height": 485
        },
        "id": "78g_p2h9oqex",
        "outputId": "be8824b6-e800-4ec9-d93e-0fb5cf9c442b"
      },
      "outputs": [
        {
          "data": {
            "text/html": [
              "\n",
              "  <div id=\"df-073cac85-87d9-47ae-967a-9948667af9e1\">\n",
              "    <div class=\"colab-df-container\">\n",
              "      <div>\n",
              "<style scoped>\n",
              "    .dataframe tbody tr th:only-of-type {\n",
              "        vertical-align: middle;\n",
              "    }\n",
              "\n",
              "    .dataframe tbody tr th {\n",
              "        vertical-align: top;\n",
              "    }\n",
              "\n",
              "    .dataframe thead th {\n",
              "        text-align: right;\n",
              "    }\n",
              "</style>\n",
              "<table border=\"1\" class=\"dataframe\">\n",
              "  <thead>\n",
              "    <tr style=\"text-align: right;\">\n",
              "      <th></th>\n",
              "      <th>Accuracy</th>\n",
              "      <th>AUC</th>\n",
              "      <th>Recall</th>\n",
              "      <th>Prec.</th>\n",
              "      <th>F1</th>\n",
              "      <th>Kappa</th>\n",
              "      <th>MCC</th>\n",
              "    </tr>\n",
              "    <tr>\n",
              "      <th>Fold</th>\n",
              "      <th></th>\n",
              "      <th></th>\n",
              "      <th></th>\n",
              "      <th></th>\n",
              "      <th></th>\n",
              "      <th></th>\n",
              "      <th></th>\n",
              "    </tr>\n",
              "  </thead>\n",
              "  <tbody>\n",
              "    <tr>\n",
              "      <th>0</th>\n",
              "      <td>0.6236</td>\n",
              "      <td>0.6186</td>\n",
              "      <td>0.5731</td>\n",
              "      <td>0.5773</td>\n",
              "      <td>0.5752</td>\n",
              "      <td>0.2373</td>\n",
              "      <td>0.2373</td>\n",
              "    </tr>\n",
              "    <tr>\n",
              "      <th>1</th>\n",
              "      <td>0.6224</td>\n",
              "      <td>0.6178</td>\n",
              "      <td>0.5766</td>\n",
              "      <td>0.5752</td>\n",
              "      <td>0.5759</td>\n",
              "      <td>0.2356</td>\n",
              "      <td>0.2356</td>\n",
              "    </tr>\n",
              "    <tr>\n",
              "      <th>Mean</th>\n",
              "      <td>0.6230</td>\n",
              "      <td>0.6182</td>\n",
              "      <td>0.5748</td>\n",
              "      <td>0.5762</td>\n",
              "      <td>0.5755</td>\n",
              "      <td>0.2364</td>\n",
              "      <td>0.2364</td>\n",
              "    </tr>\n",
              "    <tr>\n",
              "      <th>Std</th>\n",
              "      <td>0.0006</td>\n",
              "      <td>0.0004</td>\n",
              "      <td>0.0017</td>\n",
              "      <td>0.0011</td>\n",
              "      <td>0.0003</td>\n",
              "      <td>0.0009</td>\n",
              "      <td>0.0009</td>\n",
              "    </tr>\n",
              "  </tbody>\n",
              "</table>\n",
              "</div>\n",
              "      <button class=\"colab-df-convert\" onclick=\"convertToInteractive('df-073cac85-87d9-47ae-967a-9948667af9e1')\"\n",
              "              title=\"Convert this dataframe to an interactive table.\"\n",
              "              style=\"display:none;\">\n",
              "        \n",
              "  <svg xmlns=\"http://www.w3.org/2000/svg\" height=\"24px\"viewBox=\"0 0 24 24\"\n",
              "       width=\"24px\">\n",
              "    <path d=\"M0 0h24v24H0V0z\" fill=\"none\"/>\n",
              "    <path d=\"M18.56 5.44l.94 2.06.94-2.06 2.06-.94-2.06-.94-.94-2.06-.94 2.06-2.06.94zm-11 1L8.5 8.5l.94-2.06 2.06-.94-2.06-.94L8.5 2.5l-.94 2.06-2.06.94zm10 10l.94 2.06.94-2.06 2.06-.94-2.06-.94-.94-2.06-.94 2.06-2.06.94z\"/><path d=\"M17.41 7.96l-1.37-1.37c-.4-.4-.92-.59-1.43-.59-.52 0-1.04.2-1.43.59L10.3 9.45l-7.72 7.72c-.78.78-.78 2.05 0 2.83L4 21.41c.39.39.9.59 1.41.59.51 0 1.02-.2 1.41-.59l7.78-7.78 2.81-2.81c.8-.78.8-2.07 0-2.86zM5.41 20L4 18.59l7.72-7.72 1.47 1.35L5.41 20z\"/>\n",
              "  </svg>\n",
              "      </button>\n",
              "      \n",
              "  <style>\n",
              "    .colab-df-container {\n",
              "      display:flex;\n",
              "      flex-wrap:wrap;\n",
              "      gap: 12px;\n",
              "    }\n",
              "\n",
              "    .colab-df-convert {\n",
              "      background-color: #E8F0FE;\n",
              "      border: none;\n",
              "      border-radius: 50%;\n",
              "      cursor: pointer;\n",
              "      display: none;\n",
              "      fill: #1967D2;\n",
              "      height: 32px;\n",
              "      padding: 0 0 0 0;\n",
              "      width: 32px;\n",
              "    }\n",
              "\n",
              "    .colab-df-convert:hover {\n",
              "      background-color: #E2EBFA;\n",
              "      box-shadow: 0px 1px 2px rgba(60, 64, 67, 0.3), 0px 1px 3px 1px rgba(60, 64, 67, 0.15);\n",
              "      fill: #174EA6;\n",
              "    }\n",
              "\n",
              "    [theme=dark] .colab-df-convert {\n",
              "      background-color: #3B4455;\n",
              "      fill: #D2E3FC;\n",
              "    }\n",
              "\n",
              "    [theme=dark] .colab-df-convert:hover {\n",
              "      background-color: #434B5C;\n",
              "      box-shadow: 0px 1px 3px 1px rgba(0, 0, 0, 0.15);\n",
              "      filter: drop-shadow(0px 1px 2px rgba(0, 0, 0, 0.3));\n",
              "      fill: #FFFFFF;\n",
              "    }\n",
              "  </style>\n",
              "\n",
              "      <script>\n",
              "        const buttonEl =\n",
              "          document.querySelector('#df-073cac85-87d9-47ae-967a-9948667af9e1 button.colab-df-convert');\n",
              "        buttonEl.style.display =\n",
              "          google.colab.kernel.accessAllowed ? 'block' : 'none';\n",
              "\n",
              "        async function convertToInteractive(key) {\n",
              "          const element = document.querySelector('#df-073cac85-87d9-47ae-967a-9948667af9e1');\n",
              "          const dataTable =\n",
              "            await google.colab.kernel.invokeFunction('convertToInteractive',\n",
              "                                                     [key], {});\n",
              "          if (!dataTable) return;\n",
              "\n",
              "          const docLinkHtml = 'Like what you see? Visit the ' +\n",
              "            '<a target=\"_blank\" href=https://colab.research.google.com/notebooks/data_table.ipynb>data table notebook</a>'\n",
              "            + ' to learn more about interactive tables.';\n",
              "          element.innerHTML = '';\n",
              "          dataTable['output_type'] = 'display_data';\n",
              "          await google.colab.output.renderOutput(dataTable, element);\n",
              "          const docLink = document.createElement('div');\n",
              "          docLink.innerHTML = docLinkHtml;\n",
              "          element.appendChild(docLink);\n",
              "        }\n",
              "      </script>\n",
              "    </div>\n",
              "  </div>\n",
              "  "
            ],
            "text/plain": [
              "      Accuracy     AUC  Recall   Prec.      F1   Kappa     MCC\n",
              "Fold                                                          \n",
              "0       0.6236  0.6186  0.5731  0.5773  0.5752  0.2373  0.2373\n",
              "1       0.6224  0.6178  0.5766  0.5752  0.5759  0.2356  0.2356\n",
              "Mean    0.6230  0.6182  0.5748  0.5762  0.5755  0.2364  0.2364\n",
              "Std     0.0006  0.0004  0.0017  0.0011  0.0003  0.0009  0.0009"
            ]
          },
          "metadata": {},
          "output_type": "display_data"
        },
        {
          "name": "stderr",
          "output_type": "stream",
          "text": [
            "INFO:logs:create_model_container: 5\n",
            "INFO:logs:master_model_container: 5\n",
            "INFO:logs:display_container: 3\n",
            "INFO:logs:DecisionTreeClassifier(ccp_alpha=0.0, class_weight=None, criterion='gini',\n",
            "                       max_depth=None, max_features=None, max_leaf_nodes=None,\n",
            "                       min_impurity_decrease=0.0, min_impurity_split=None,\n",
            "                       min_samples_leaf=1, min_samples_split=2,\n",
            "                       min_weight_fraction_leaf=0.0, presort='deprecated',\n",
            "                       random_state=123, splitter='best')\n",
            "INFO:logs:create_model() succesfully completed......................................\n"
          ]
        }
      ],
      "source": [
        "dt = create_model('dt', fold=2)"
      ]
    },
    {
      "cell_type": "code",
      "execution_count": null,
      "metadata": {
        "colab": {
          "background_save": true,
          "base_uri": "https://localhost:8080/"
        },
        "id": "Gb0XBcC5rLet",
        "outputId": "fa6c8731-33f2-4f1a-f332-ab8abc77c6c6"
      },
      "outputs": [
        {
          "data": {
            "text/html": [
              "\n",
              "  <div id=\"df-f693ee02-961f-411f-bdc1-4bb9b4cd1f5b\">\n",
              "    <div class=\"colab-df-container\">\n",
              "      <div>\n",
              "<style scoped>\n",
              "    .dataframe tbody tr th:only-of-type {\n",
              "        vertical-align: middle;\n",
              "    }\n",
              "\n",
              "    .dataframe tbody tr th {\n",
              "        vertical-align: top;\n",
              "    }\n",
              "\n",
              "    .dataframe thead th {\n",
              "        text-align: right;\n",
              "    }\n",
              "</style>\n",
              "<table border=\"1\" class=\"dataframe\">\n",
              "  <thead>\n",
              "    <tr style=\"text-align: right;\">\n",
              "      <th></th>\n",
              "      <th>Accuracy</th>\n",
              "      <th>AUC</th>\n",
              "      <th>Recall</th>\n",
              "      <th>Prec.</th>\n",
              "      <th>F1</th>\n",
              "      <th>Kappa</th>\n",
              "      <th>MCC</th>\n",
              "    </tr>\n",
              "    <tr>\n",
              "      <th>Fold</th>\n",
              "      <th></th>\n",
              "      <th></th>\n",
              "      <th></th>\n",
              "      <th></th>\n",
              "      <th></th>\n",
              "      <th></th>\n",
              "      <th></th>\n",
              "    </tr>\n",
              "  </thead>\n",
              "  <tbody>\n",
              "    <tr>\n",
              "      <th>0</th>\n",
              "      <td>0.6690</td>\n",
              "      <td>0.7156</td>\n",
              "      <td>0.5224</td>\n",
              "      <td>0.6618</td>\n",
              "      <td>0.5839</td>\n",
              "      <td>0.3153</td>\n",
              "      <td>0.3214</td>\n",
              "    </tr>\n",
              "    <tr>\n",
              "      <th>1</th>\n",
              "      <td>0.6703</td>\n",
              "      <td>0.7174</td>\n",
              "      <td>0.5276</td>\n",
              "      <td>0.6621</td>\n",
              "      <td>0.5872</td>\n",
              "      <td>0.3185</td>\n",
              "      <td>0.3242</td>\n",
              "    </tr>\n",
              "    <tr>\n",
              "      <th>Mean</th>\n",
              "      <td>0.6696</td>\n",
              "      <td>0.7165</td>\n",
              "      <td>0.5250</td>\n",
              "      <td>0.6620</td>\n",
              "      <td>0.5856</td>\n",
              "      <td>0.3169</td>\n",
              "      <td>0.3228</td>\n",
              "    </tr>\n",
              "    <tr>\n",
              "      <th>Std</th>\n",
              "      <td>0.0006</td>\n",
              "      <td>0.0009</td>\n",
              "      <td>0.0026</td>\n",
              "      <td>0.0002</td>\n",
              "      <td>0.0017</td>\n",
              "      <td>0.0016</td>\n",
              "      <td>0.0014</td>\n",
              "    </tr>\n",
              "  </tbody>\n",
              "</table>\n",
              "</div>\n",
              "      <button class=\"colab-df-convert\" onclick=\"convertToInteractive('df-f693ee02-961f-411f-bdc1-4bb9b4cd1f5b')\"\n",
              "              title=\"Convert this dataframe to an interactive table.\"\n",
              "              style=\"display:none;\">\n",
              "        \n",
              "  <svg xmlns=\"http://www.w3.org/2000/svg\" height=\"24px\"viewBox=\"0 0 24 24\"\n",
              "       width=\"24px\">\n",
              "    <path d=\"M0 0h24v24H0V0z\" fill=\"none\"/>\n",
              "    <path d=\"M18.56 5.44l.94 2.06.94-2.06 2.06-.94-2.06-.94-.94-2.06-.94 2.06-2.06.94zm-11 1L8.5 8.5l.94-2.06 2.06-.94-2.06-.94L8.5 2.5l-.94 2.06-2.06.94zm10 10l.94 2.06.94-2.06 2.06-.94-2.06-.94-.94-2.06-.94 2.06-2.06.94z\"/><path d=\"M17.41 7.96l-1.37-1.37c-.4-.4-.92-.59-1.43-.59-.52 0-1.04.2-1.43.59L10.3 9.45l-7.72 7.72c-.78.78-.78 2.05 0 2.83L4 21.41c.39.39.9.59 1.41.59.51 0 1.02-.2 1.41-.59l7.78-7.78 2.81-2.81c.8-.78.8-2.07 0-2.86zM5.41 20L4 18.59l7.72-7.72 1.47 1.35L5.41 20z\"/>\n",
              "  </svg>\n",
              "      </button>\n",
              "      \n",
              "  <style>\n",
              "    .colab-df-container {\n",
              "      display:flex;\n",
              "      flex-wrap:wrap;\n",
              "      gap: 12px;\n",
              "    }\n",
              "\n",
              "    .colab-df-convert {\n",
              "      background-color: #E8F0FE;\n",
              "      border: none;\n",
              "      border-radius: 50%;\n",
              "      cursor: pointer;\n",
              "      display: none;\n",
              "      fill: #1967D2;\n",
              "      height: 32px;\n",
              "      padding: 0 0 0 0;\n",
              "      width: 32px;\n",
              "    }\n",
              "\n",
              "    .colab-df-convert:hover {\n",
              "      background-color: #E2EBFA;\n",
              "      box-shadow: 0px 1px 2px rgba(60, 64, 67, 0.3), 0px 1px 3px 1px rgba(60, 64, 67, 0.15);\n",
              "      fill: #174EA6;\n",
              "    }\n",
              "\n",
              "    [theme=dark] .colab-df-convert {\n",
              "      background-color: #3B4455;\n",
              "      fill: #D2E3FC;\n",
              "    }\n",
              "\n",
              "    [theme=dark] .colab-df-convert:hover {\n",
              "      background-color: #434B5C;\n",
              "      box-shadow: 0px 1px 3px 1px rgba(0, 0, 0, 0.15);\n",
              "      filter: drop-shadow(0px 1px 2px rgba(0, 0, 0, 0.3));\n",
              "      fill: #FFFFFF;\n",
              "    }\n",
              "  </style>\n",
              "\n",
              "      <script>\n",
              "        const buttonEl =\n",
              "          document.querySelector('#df-f693ee02-961f-411f-bdc1-4bb9b4cd1f5b button.colab-df-convert');\n",
              "        buttonEl.style.display =\n",
              "          google.colab.kernel.accessAllowed ? 'block' : 'none';\n",
              "\n",
              "        async function convertToInteractive(key) {\n",
              "          const element = document.querySelector('#df-f693ee02-961f-411f-bdc1-4bb9b4cd1f5b');\n",
              "          const dataTable =\n",
              "            await google.colab.kernel.invokeFunction('convertToInteractive',\n",
              "                                                     [key], {});\n",
              "          if (!dataTable) return;\n",
              "\n",
              "          const docLinkHtml = 'Like what you see? Visit the ' +\n",
              "            '<a target=\"_blank\" href=https://colab.research.google.com/notebooks/data_table.ipynb>data table notebook</a>'\n",
              "            + ' to learn more about interactive tables.';\n",
              "          element.innerHTML = '';\n",
              "          dataTable['output_type'] = 'display_data';\n",
              "          await google.colab.output.renderOutput(dataTable, element);\n",
              "          const docLink = document.createElement('div');\n",
              "          docLink.innerHTML = docLinkHtml;\n",
              "          element.appendChild(docLink);\n",
              "        }\n",
              "      </script>\n",
              "    </div>\n",
              "  </div>\n",
              "  "
            ],
            "text/plain": [
              "      Accuracy     AUC  Recall   Prec.      F1   Kappa     MCC\n",
              "Fold                                                          \n",
              "0       0.6690  0.7156  0.5224  0.6618  0.5839  0.3153  0.3214\n",
              "1       0.6703  0.7174  0.5276  0.6621  0.5872  0.3185  0.3242\n",
              "Mean    0.6696  0.7165  0.5250  0.6620  0.5856  0.3169  0.3228\n",
              "Std     0.0006  0.0009  0.0026  0.0002  0.0017  0.0016  0.0014"
            ]
          },
          "metadata": {},
          "output_type": "display_data"
        },
        {
          "name": "stderr",
          "output_type": "stream",
          "text": [
            "INFO:logs:create_model_container: 6\n",
            "INFO:logs:master_model_container: 6\n",
            "INFO:logs:display_container: 4\n",
            "INFO:logs:BaggingClassifier(base_estimator=DecisionTreeClassifier(ccp_alpha=0.0,\n",
            "                                                        class_weight=None,\n",
            "                                                        criterion='gini',\n",
            "                                                        max_depth=None,\n",
            "                                                        max_features=None,\n",
            "                                                        max_leaf_nodes=None,\n",
            "                                                        min_impurity_decrease=0.0,\n",
            "                                                        min_impurity_split=None,\n",
            "                                                        min_samples_leaf=1,\n",
            "                                                        min_samples_split=2,\n",
            "                                                        min_weight_fraction_leaf=0.0,\n",
            "                                                        presort='deprecated',\n",
            "                                                        random_state=123,\n",
            "                                                        splitter='best'),\n",
            "                  bootstrap=True, bootstrap_features=False, max_features=1.0,\n",
            "                  max_samples=1.0, n_estimators=10, n_jobs=1, oob_score=False,\n",
            "                  random_state=123, verbose=0, warm_start=False)\n",
            "INFO:logs:ensemble_model() succesfully completed......................................\n"
          ]
        }
      ],
      "source": [
        "bagged_dt = ensemble_model(dt, n_estimators=10, fold=2)"
      ]
    },
    {
      "cell_type": "code",
      "execution_count": null,
      "metadata": {
        "colab": {
          "background_save": true
        },
        "id": "Dw7sNFDBLKz_",
        "outputId": "041218a2-e7a3-42ef-a903-563431d94723"
      },
      "outputs": [
        {
          "data": {
            "text/html": [
              "\n",
              "  <div id=\"df-240806de-09c6-4ece-8b57-87cc4f33bdd2\">\n",
              "    <div class=\"colab-df-container\">\n",
              "      <div>\n",
              "<style scoped>\n",
              "    .dataframe tbody tr th:only-of-type {\n",
              "        vertical-align: middle;\n",
              "    }\n",
              "\n",
              "    .dataframe tbody tr th {\n",
              "        vertical-align: top;\n",
              "    }\n",
              "\n",
              "    .dataframe thead th {\n",
              "        text-align: right;\n",
              "    }\n",
              "</style>\n",
              "<table border=\"1\" class=\"dataframe\">\n",
              "  <thead>\n",
              "    <tr style=\"text-align: right;\">\n",
              "      <th></th>\n",
              "      <th>Accuracy</th>\n",
              "      <th>AUC</th>\n",
              "      <th>Recall</th>\n",
              "      <th>Prec.</th>\n",
              "      <th>F1</th>\n",
              "      <th>Kappa</th>\n",
              "      <th>MCC</th>\n",
              "    </tr>\n",
              "    <tr>\n",
              "      <th>Fold</th>\n",
              "      <th></th>\n",
              "      <th></th>\n",
              "      <th></th>\n",
              "      <th></th>\n",
              "      <th></th>\n",
              "      <th></th>\n",
              "      <th></th>\n",
              "    </tr>\n",
              "  </thead>\n",
              "  <tbody>\n",
              "    <tr>\n",
              "      <th>0</th>\n",
              "      <td>0.6228</td>\n",
              "      <td>0.6177</td>\n",
              "      <td>0.5721</td>\n",
              "      <td>0.5764</td>\n",
              "      <td>0.5742</td>\n",
              "      <td>0.2356</td>\n",
              "      <td>0.2357</td>\n",
              "    </tr>\n",
              "    <tr>\n",
              "      <th>1</th>\n",
              "      <td>0.6228</td>\n",
              "      <td>0.6181</td>\n",
              "      <td>0.5756</td>\n",
              "      <td>0.5758</td>\n",
              "      <td>0.5757</td>\n",
              "      <td>0.2361</td>\n",
              "      <td>0.2361</td>\n",
              "    </tr>\n",
              "    <tr>\n",
              "      <th>Mean</th>\n",
              "      <td>0.6228</td>\n",
              "      <td>0.6179</td>\n",
              "      <td>0.5738</td>\n",
              "      <td>0.5761</td>\n",
              "      <td>0.5750</td>\n",
              "      <td>0.2359</td>\n",
              "      <td>0.2359</td>\n",
              "    </tr>\n",
              "    <tr>\n",
              "      <th>Std</th>\n",
              "      <td>0.0000</td>\n",
              "      <td>0.0002</td>\n",
              "      <td>0.0017</td>\n",
              "      <td>0.0003</td>\n",
              "      <td>0.0007</td>\n",
              "      <td>0.0002</td>\n",
              "      <td>0.0002</td>\n",
              "    </tr>\n",
              "  </tbody>\n",
              "</table>\n",
              "</div>\n",
              "      <button class=\"colab-df-convert\" onclick=\"convertToInteractive('df-240806de-09c6-4ece-8b57-87cc4f33bdd2')\"\n",
              "              title=\"Convert this dataframe to an interactive table.\"\n",
              "              style=\"display:none;\">\n",
              "        \n",
              "  <svg xmlns=\"http://www.w3.org/2000/svg\" height=\"24px\"viewBox=\"0 0 24 24\"\n",
              "       width=\"24px\">\n",
              "    <path d=\"M0 0h24v24H0V0z\" fill=\"none\"/>\n",
              "    <path d=\"M18.56 5.44l.94 2.06.94-2.06 2.06-.94-2.06-.94-.94-2.06-.94 2.06-2.06.94zm-11 1L8.5 8.5l.94-2.06 2.06-.94-2.06-.94L8.5 2.5l-.94 2.06-2.06.94zm10 10l.94 2.06.94-2.06 2.06-.94-2.06-.94-.94-2.06-.94 2.06-2.06.94z\"/><path d=\"M17.41 7.96l-1.37-1.37c-.4-.4-.92-.59-1.43-.59-.52 0-1.04.2-1.43.59L10.3 9.45l-7.72 7.72c-.78.78-.78 2.05 0 2.83L4 21.41c.39.39.9.59 1.41.59.51 0 1.02-.2 1.41-.59l7.78-7.78 2.81-2.81c.8-.78.8-2.07 0-2.86zM5.41 20L4 18.59l7.72-7.72 1.47 1.35L5.41 20z\"/>\n",
              "  </svg>\n",
              "      </button>\n",
              "      \n",
              "  <style>\n",
              "    .colab-df-container {\n",
              "      display:flex;\n",
              "      flex-wrap:wrap;\n",
              "      gap: 12px;\n",
              "    }\n",
              "\n",
              "    .colab-df-convert {\n",
              "      background-color: #E8F0FE;\n",
              "      border: none;\n",
              "      border-radius: 50%;\n",
              "      cursor: pointer;\n",
              "      display: none;\n",
              "      fill: #1967D2;\n",
              "      height: 32px;\n",
              "      padding: 0 0 0 0;\n",
              "      width: 32px;\n",
              "    }\n",
              "\n",
              "    .colab-df-convert:hover {\n",
              "      background-color: #E2EBFA;\n",
              "      box-shadow: 0px 1px 2px rgba(60, 64, 67, 0.3), 0px 1px 3px 1px rgba(60, 64, 67, 0.15);\n",
              "      fill: #174EA6;\n",
              "    }\n",
              "\n",
              "    [theme=dark] .colab-df-convert {\n",
              "      background-color: #3B4455;\n",
              "      fill: #D2E3FC;\n",
              "    }\n",
              "\n",
              "    [theme=dark] .colab-df-convert:hover {\n",
              "      background-color: #434B5C;\n",
              "      box-shadow: 0px 1px 3px 1px rgba(0, 0, 0, 0.15);\n",
              "      filter: drop-shadow(0px 1px 2px rgba(0, 0, 0, 0.3));\n",
              "      fill: #FFFFFF;\n",
              "    }\n",
              "  </style>\n",
              "\n",
              "      <script>\n",
              "        const buttonEl =\n",
              "          document.querySelector('#df-240806de-09c6-4ece-8b57-87cc4f33bdd2 button.colab-df-convert');\n",
              "        buttonEl.style.display =\n",
              "          google.colab.kernel.accessAllowed ? 'block' : 'none';\n",
              "\n",
              "        async function convertToInteractive(key) {\n",
              "          const element = document.querySelector('#df-240806de-09c6-4ece-8b57-87cc4f33bdd2');\n",
              "          const dataTable =\n",
              "            await google.colab.kernel.invokeFunction('convertToInteractive',\n",
              "                                                     [key], {});\n",
              "          if (!dataTable) return;\n",
              "\n",
              "          const docLinkHtml = 'Like what you see? Visit the ' +\n",
              "            '<a target=\"_blank\" href=https://colab.research.google.com/notebooks/data_table.ipynb>data table notebook</a>'\n",
              "            + ' to learn more about interactive tables.';\n",
              "          element.innerHTML = '';\n",
              "          dataTable['output_type'] = 'display_data';\n",
              "          await google.colab.output.renderOutput(dataTable, element);\n",
              "          const docLink = document.createElement('div');\n",
              "          docLink.innerHTML = docLinkHtml;\n",
              "          element.appendChild(docLink);\n",
              "        }\n",
              "      </script>\n",
              "    </div>\n",
              "  </div>\n",
              "  "
            ],
            "text/plain": [
              "      Accuracy     AUC  Recall   Prec.      F1   Kappa     MCC\n",
              "Fold                                                          \n",
              "0       0.6228  0.6177  0.5721  0.5764  0.5742  0.2356  0.2357\n",
              "1       0.6228  0.6181  0.5756  0.5758  0.5757  0.2361  0.2361\n",
              "Mean    0.6228  0.6179  0.5738  0.5761  0.5750  0.2359  0.2359\n",
              "Std     0.0000  0.0002  0.0017  0.0003  0.0007  0.0002  0.0002"
            ]
          },
          "metadata": {},
          "output_type": "display_data"
        },
        {
          "name": "stderr",
          "output_type": "stream",
          "text": [
            "INFO:logs:create_model_container: 7\n",
            "INFO:logs:master_model_container: 7\n",
            "INFO:logs:display_container: 5\n",
            "INFO:logs:AdaBoostClassifier(algorithm='SAMME.R',\n",
            "                   base_estimator=DecisionTreeClassifier(ccp_alpha=0.0,\n",
            "                                                         class_weight=None,\n",
            "                                                         criterion='gini',\n",
            "                                                         max_depth=None,\n",
            "                                                         max_features=None,\n",
            "                                                         max_leaf_nodes=None,\n",
            "                                                         min_impurity_decrease=0.0,\n",
            "                                                         min_impurity_split=None,\n",
            "                                                         min_samples_leaf=1,\n",
            "                                                         min_samples_split=2,\n",
            "                                                         min_weight_fraction_leaf=0.0,\n",
            "                                                         presort='deprecated',\n",
            "                                                         random_state=123,\n",
            "                                                         splitter='best'),\n",
            "                   learning_rate=1.0, n_estimators=10, random_state=123)\n",
            "INFO:logs:ensemble_model() succesfully completed......................................\n"
          ]
        }
      ],
      "source": [
        "boosted_dt = ensemble_model(dt, method = 'Boosting', fold=2)"
      ]
    },
    {
      "cell_type": "markdown",
      "metadata": {
        "id": "XDaeN6hbP1So"
      },
      "source": [
        "Between bagging and boosting, it seems that 'bagging' produces better accuracy. "
      ]
    },
    {
      "cell_type": "markdown",
      "metadata": {
        "id": "3lukMszgLURO"
      },
      "source": [
        "### Blending"
      ]
    },
    {
      "cell_type": "code",
      "execution_count": null,
      "metadata": {
        "colab": {
          "background_save": true
        },
        "id": "wLx0CAC9LYVW",
        "outputId": "999ec43e-eb09-4b22-aa04-68fb4ecb5de3"
      },
      "outputs": [
        {
          "name": "stderr",
          "output_type": "stream",
          "text": [
            "INFO:logs:Initializing create_model()\n",
            "INFO:logs:create_model(estimator=lightgbm, fold=2, round=4, cross_validation=True, predict=True, fit_kwargs=None, groups=None, refit=True, verbose=False, system=True, metrics=None, experiment_custom_tags=None, add_to_model_list=True, probability_threshold=None, display=None, return_train_score=False, kwargs={})\n",
            "INFO:logs:Checking exceptions\n",
            "INFO:logs:Importing libraries\n",
            "INFO:logs:Copying training dataset\n",
            "INFO:logs:Defining folds\n",
            "INFO:logs:Declaring metric variables\n",
            "INFO:logs:Importing untrained model\n",
            "INFO:logs:Light Gradient Boosting Machine Imported succesfully\n",
            "INFO:logs:Starting cross validation\n",
            "INFO:logs:Cross validating with StratifiedKFold(n_splits=2, random_state=None, shuffle=False), n_jobs=1\n",
            "INFO:logs:Calculating mean and std\n",
            "INFO:logs:Creating metrics dataframe\n",
            "INFO:logs:Finalizing model\n",
            "INFO:logs:Uploading results into container\n",
            "INFO:logs:Uploading model into container now\n",
            "INFO:logs:create_model_container: 8\n",
            "INFO:logs:master_model_container: 8\n",
            "INFO:logs:display_container: 6\n",
            "INFO:logs:LGBMClassifier(boosting_type='gbdt', class_weight=None, colsample_bytree=1.0,\n",
            "               importance_type='split', learning_rate=0.1, max_depth=-1,\n",
            "               min_child_samples=20, min_child_weight=0.001, min_split_gain=0.0,\n",
            "               n_estimators=100, n_jobs=-1, num_leaves=31, objective=None,\n",
            "               random_state=123, reg_alpha=0.0, reg_lambda=0.0, silent='warn',\n",
            "               subsample=1.0, subsample_for_bin=200000, subsample_freq=0)\n",
            "INFO:logs:create_model() succesfully completed......................................\n",
            "INFO:logs:Initializing create_model()\n",
            "INFO:logs:create_model(estimator=dt, fold=2, round=4, cross_validation=True, predict=True, fit_kwargs=None, groups=None, refit=True, verbose=False, system=True, metrics=None, experiment_custom_tags=None, add_to_model_list=True, probability_threshold=None, display=None, return_train_score=False, kwargs={})\n",
            "INFO:logs:Checking exceptions\n",
            "INFO:logs:Importing libraries\n",
            "INFO:logs:Copying training dataset\n",
            "INFO:logs:Defining folds\n",
            "INFO:logs:Declaring metric variables\n",
            "INFO:logs:Importing untrained model\n",
            "INFO:logs:Decision Tree Classifier Imported succesfully\n",
            "INFO:logs:Starting cross validation\n",
            "INFO:logs:Cross validating with StratifiedKFold(n_splits=2, random_state=None, shuffle=False), n_jobs=1\n",
            "INFO:logs:Calculating mean and std\n",
            "INFO:logs:Creating metrics dataframe\n",
            "INFO:logs:Finalizing model\n",
            "INFO:logs:Uploading results into container\n",
            "INFO:logs:Uploading model into container now\n",
            "INFO:logs:create_model_container: 9\n",
            "INFO:logs:master_model_container: 9\n",
            "INFO:logs:display_container: 7\n",
            "INFO:logs:DecisionTreeClassifier(ccp_alpha=0.0, class_weight=None, criterion='gini',\n",
            "                       max_depth=None, max_features=None, max_leaf_nodes=None,\n",
            "                       min_impurity_decrease=0.0, min_impurity_split=None,\n",
            "                       min_samples_leaf=1, min_samples_split=2,\n",
            "                       min_weight_fraction_leaf=0.0, presort='deprecated',\n",
            "                       random_state=123, splitter='best')\n",
            "INFO:logs:create_model() succesfully completed......................................\n",
            "INFO:logs:Initializing create_model()\n",
            "INFO:logs:create_model(estimator=lr, fold=2, round=4, cross_validation=True, predict=True, fit_kwargs=None, groups=None, refit=True, verbose=False, system=True, metrics=None, experiment_custom_tags=None, add_to_model_list=True, probability_threshold=None, display=None, return_train_score=False, kwargs={})\n",
            "INFO:logs:Checking exceptions\n",
            "INFO:logs:Importing libraries\n",
            "INFO:logs:Copying training dataset\n",
            "INFO:logs:Defining folds\n",
            "INFO:logs:Declaring metric variables\n",
            "INFO:logs:Importing untrained model\n",
            "INFO:logs:Logistic Regression Imported succesfully\n",
            "INFO:logs:Starting cross validation\n",
            "INFO:logs:Cross validating with StratifiedKFold(n_splits=2, random_state=None, shuffle=False), n_jobs=1\n",
            "INFO:logs:Calculating mean and std\n",
            "INFO:logs:Creating metrics dataframe\n",
            "INFO:logs:Finalizing model\n",
            "INFO:logs:Uploading results into container\n",
            "INFO:logs:Uploading model into container now\n",
            "INFO:logs:create_model_container: 10\n",
            "INFO:logs:master_model_container: 10\n",
            "INFO:logs:display_container: 8\n",
            "INFO:logs:LogisticRegression(C=1.0, class_weight=None, dual=False, fit_intercept=True,\n",
            "                   intercept_scaling=1, l1_ratio=None, max_iter=1000,\n",
            "                   multi_class='auto', n_jobs=None, penalty='l2',\n",
            "                   random_state=123, solver='lbfgs', tol=0.0001, verbose=0,\n",
            "                   warm_start=False)\n",
            "INFO:logs:create_model() succesfully completed......................................\n"
          ]
        }
      ],
      "source": [
        "# train individual models to blend\n",
        "lightgbm = create_model('lightgbm', verbose = False, fold=2)\n",
        "dt = create_model('dt', verbose = False, fold=2)\n",
        "lr = create_model('lr', verbose = False, fold =2)"
      ]
    },
    {
      "cell_type": "code",
      "execution_count": null,
      "metadata": {
        "colab": {
          "background_save": true
        },
        "id": "F2sBrTzGLhWe",
        "outputId": "711cec54-65c7-4b94-d951-3c4dd55d63c3"
      },
      "outputs": [
        {
          "data": {
            "text/html": [
              "\n",
              "  <div id=\"df-91ba315d-00a4-4e91-99b1-3fbaad08f412\">\n",
              "    <div class=\"colab-df-container\">\n",
              "      <div>\n",
              "<style scoped>\n",
              "    .dataframe tbody tr th:only-of-type {\n",
              "        vertical-align: middle;\n",
              "    }\n",
              "\n",
              "    .dataframe tbody tr th {\n",
              "        vertical-align: top;\n",
              "    }\n",
              "\n",
              "    .dataframe thead th {\n",
              "        text-align: right;\n",
              "    }\n",
              "</style>\n",
              "<table border=\"1\" class=\"dataframe\">\n",
              "  <thead>\n",
              "    <tr style=\"text-align: right;\">\n",
              "      <th></th>\n",
              "      <th>Accuracy</th>\n",
              "      <th>AUC</th>\n",
              "      <th>Recall</th>\n",
              "      <th>Prec.</th>\n",
              "      <th>F1</th>\n",
              "      <th>Kappa</th>\n",
              "      <th>MCC</th>\n",
              "    </tr>\n",
              "    <tr>\n",
              "      <th>Fold</th>\n",
              "      <th></th>\n",
              "      <th></th>\n",
              "      <th></th>\n",
              "      <th></th>\n",
              "      <th></th>\n",
              "      <th></th>\n",
              "      <th></th>\n",
              "    </tr>\n",
              "  </thead>\n",
              "  <tbody>\n",
              "    <tr>\n",
              "      <th>0</th>\n",
              "      <td>0.6426</td>\n",
              "      <td>0.7168</td>\n",
              "      <td>0.5762</td>\n",
              "      <td>0.6025</td>\n",
              "      <td>0.5891</td>\n",
              "      <td>0.2731</td>\n",
              "      <td>0.2733</td>\n",
              "    </tr>\n",
              "    <tr>\n",
              "      <th>1</th>\n",
              "      <td>0.6418</td>\n",
              "      <td>0.7170</td>\n",
              "      <td>0.5810</td>\n",
              "      <td>0.6004</td>\n",
              "      <td>0.5906</td>\n",
              "      <td>0.2723</td>\n",
              "      <td>0.2725</td>\n",
              "    </tr>\n",
              "    <tr>\n",
              "      <th>Mean</th>\n",
              "      <td>0.6422</td>\n",
              "      <td>0.7169</td>\n",
              "      <td>0.5786</td>\n",
              "      <td>0.6015</td>\n",
              "      <td>0.5898</td>\n",
              "      <td>0.2727</td>\n",
              "      <td>0.2729</td>\n",
              "    </tr>\n",
              "    <tr>\n",
              "      <th>Std</th>\n",
              "      <td>0.0004</td>\n",
              "      <td>0.0001</td>\n",
              "      <td>0.0024</td>\n",
              "      <td>0.0011</td>\n",
              "      <td>0.0008</td>\n",
              "      <td>0.0004</td>\n",
              "      <td>0.0004</td>\n",
              "    </tr>\n",
              "  </tbody>\n",
              "</table>\n",
              "</div>\n",
              "      <button class=\"colab-df-convert\" onclick=\"convertToInteractive('df-91ba315d-00a4-4e91-99b1-3fbaad08f412')\"\n",
              "              title=\"Convert this dataframe to an interactive table.\"\n",
              "              style=\"display:none;\">\n",
              "        \n",
              "  <svg xmlns=\"http://www.w3.org/2000/svg\" height=\"24px\"viewBox=\"0 0 24 24\"\n",
              "       width=\"24px\">\n",
              "    <path d=\"M0 0h24v24H0V0z\" fill=\"none\"/>\n",
              "    <path d=\"M18.56 5.44l.94 2.06.94-2.06 2.06-.94-2.06-.94-.94-2.06-.94 2.06-2.06.94zm-11 1L8.5 8.5l.94-2.06 2.06-.94-2.06-.94L8.5 2.5l-.94 2.06-2.06.94zm10 10l.94 2.06.94-2.06 2.06-.94-2.06-.94-.94-2.06-.94 2.06-2.06.94z\"/><path d=\"M17.41 7.96l-1.37-1.37c-.4-.4-.92-.59-1.43-.59-.52 0-1.04.2-1.43.59L10.3 9.45l-7.72 7.72c-.78.78-.78 2.05 0 2.83L4 21.41c.39.39.9.59 1.41.59.51 0 1.02-.2 1.41-.59l7.78-7.78 2.81-2.81c.8-.78.8-2.07 0-2.86zM5.41 20L4 18.59l7.72-7.72 1.47 1.35L5.41 20z\"/>\n",
              "  </svg>\n",
              "      </button>\n",
              "      \n",
              "  <style>\n",
              "    .colab-df-container {\n",
              "      display:flex;\n",
              "      flex-wrap:wrap;\n",
              "      gap: 12px;\n",
              "    }\n",
              "\n",
              "    .colab-df-convert {\n",
              "      background-color: #E8F0FE;\n",
              "      border: none;\n",
              "      border-radius: 50%;\n",
              "      cursor: pointer;\n",
              "      display: none;\n",
              "      fill: #1967D2;\n",
              "      height: 32px;\n",
              "      padding: 0 0 0 0;\n",
              "      width: 32px;\n",
              "    }\n",
              "\n",
              "    .colab-df-convert:hover {\n",
              "      background-color: #E2EBFA;\n",
              "      box-shadow: 0px 1px 2px rgba(60, 64, 67, 0.3), 0px 1px 3px 1px rgba(60, 64, 67, 0.15);\n",
              "      fill: #174EA6;\n",
              "    }\n",
              "\n",
              "    [theme=dark] .colab-df-convert {\n",
              "      background-color: #3B4455;\n",
              "      fill: #D2E3FC;\n",
              "    }\n",
              "\n",
              "    [theme=dark] .colab-df-convert:hover {\n",
              "      background-color: #434B5C;\n",
              "      box-shadow: 0px 1px 3px 1px rgba(0, 0, 0, 0.15);\n",
              "      filter: drop-shadow(0px 1px 2px rgba(0, 0, 0, 0.3));\n",
              "      fill: #FFFFFF;\n",
              "    }\n",
              "  </style>\n",
              "\n",
              "      <script>\n",
              "        const buttonEl =\n",
              "          document.querySelector('#df-91ba315d-00a4-4e91-99b1-3fbaad08f412 button.colab-df-convert');\n",
              "        buttonEl.style.display =\n",
              "          google.colab.kernel.accessAllowed ? 'block' : 'none';\n",
              "\n",
              "        async function convertToInteractive(key) {\n",
              "          const element = document.querySelector('#df-91ba315d-00a4-4e91-99b1-3fbaad08f412');\n",
              "          const dataTable =\n",
              "            await google.colab.kernel.invokeFunction('convertToInteractive',\n",
              "                                                     [key], {});\n",
              "          if (!dataTable) return;\n",
              "\n",
              "          const docLinkHtml = 'Like what you see? Visit the ' +\n",
              "            '<a target=\"_blank\" href=https://colab.research.google.com/notebooks/data_table.ipynb>data table notebook</a>'\n",
              "            + ' to learn more about interactive tables.';\n",
              "          element.innerHTML = '';\n",
              "          dataTable['output_type'] = 'display_data';\n",
              "          await google.colab.output.renderOutput(dataTable, element);\n",
              "          const docLink = document.createElement('div');\n",
              "          docLink.innerHTML = docLinkHtml;\n",
              "          element.appendChild(docLink);\n",
              "        }\n",
              "      </script>\n",
              "    </div>\n",
              "  </div>\n",
              "  "
            ],
            "text/plain": [
              "      Accuracy     AUC  Recall   Prec.      F1   Kappa     MCC\n",
              "Fold                                                          \n",
              "0       0.6426  0.7168  0.5762  0.6025  0.5891  0.2731  0.2733\n",
              "1       0.6418  0.7170  0.5810  0.6004  0.5906  0.2723  0.2725\n",
              "Mean    0.6422  0.7169  0.5786  0.6015  0.5898  0.2727  0.2729\n",
              "Std     0.0004  0.0001  0.0024  0.0011  0.0008  0.0004  0.0004"
            ]
          },
          "metadata": {},
          "output_type": "display_data"
        },
        {
          "name": "stderr",
          "output_type": "stream",
          "text": [
            "INFO:logs:create_model_container: 11\n",
            "INFO:logs:master_model_container: 11\n",
            "INFO:logs:display_container: 9\n",
            "INFO:logs:VotingClassifier(estimators=[('lightgbm',\n",
            "                              LGBMClassifier(boosting_type='gbdt',\n",
            "                                             class_weight=None,\n",
            "                                             colsample_bytree=1.0,\n",
            "                                             importance_type='split',\n",
            "                                             learning_rate=0.1, max_depth=-1,\n",
            "                                             min_child_samples=20,\n",
            "                                             min_child_weight=0.001,\n",
            "                                             min_split_gain=0.0,\n",
            "                                             n_estimators=100, n_jobs=-1,\n",
            "                                             num_leaves=31, objective=None,\n",
            "                                             random_state=123, reg_alpha=0.0,\n",
            "                                             reg_lambda=0.0, silent='warn',...\n",
            "                                                     random_state=123,\n",
            "                                                     splitter='best')),\n",
            "                             ('lr',\n",
            "                              LogisticRegression(C=1.0, class_weight=None,\n",
            "                                                 dual=False, fit_intercept=True,\n",
            "                                                 intercept_scaling=1,\n",
            "                                                 l1_ratio=None, max_iter=1000,\n",
            "                                                 multi_class='auto',\n",
            "                                                 n_jobs=None, penalty='l2',\n",
            "                                                 random_state=123,\n",
            "                                                 solver='lbfgs', tol=0.0001,\n",
            "                                                 verbose=0,\n",
            "                                                 warm_start=False))],\n",
            "                 flatten_transform=True, n_jobs=1, verbose=False, voting='soft',\n",
            "                 weights=None)\n",
            "INFO:logs:blend_models() succesfully completed......................................\n"
          ]
        }
      ],
      "source": [
        "# blend individual models\n",
        "blend_soft = blend_models(estimator_list = [lightgbm, dt, lr], method = 'soft', fold=2)"
      ]
    },
    {
      "cell_type": "markdown",
      "metadata": {
        "id": "ZzAabh00L3zG"
      },
      "source": [
        "Based on comparision between all ensembled models, '' has the highest accuracy, so we will plot our model with ''. All in all, we chose Random Forest Classifier to analysis plots. "
      ]
    },
    {
      "cell_type": "markdown",
      "metadata": {
        "id": "g4cw8RjPbV-k"
      },
      "source": [
        "# 7.0 Plotting Models"
      ]
    },
    {
      "cell_type": "markdown",
      "metadata": {
        "id": "OV0z93P2bYQL"
      },
      "source": [
        "* **ROC Curve:**\n",
        "what it is: Receiver Operating Characterstic curve show True Positive Rate (Recall) and False Positive rate\n",
        "\n",
        "* **AUC:**\n",
        "what it is: Area under ROC Curve measures 2D area underneath ROC curve from (0,0) to (1,1). AUC ranges in value from 0 to 1. A model whose predictions are 100% wrong has an AUC of 0.0; one whose predictions are 100% correct has an AUC of 1.0.\n",
        "\n",
        "* **Precision Recall Curve:**\n",
        "what it is:The precision-recall curve shows the tradeoff between precision and recall for different threshold. A high area under the curve represents both high recall and high precision, where high precision relates to a low false positive rate, and high recall relates to a low false negative rate. High scores for both show that the classifier is returning accurate results (high precision), as well as returning a majority of all positive results (high recall).\n",
        "\n",
        "* **Feature Importance Plot:**\n",
        "what it is: provides a list of the most significant variables in descending order\n",
        "\n",
        "* **Confusion matrix:**\n",
        "what it is: is a table that is used to define the performance of a classification algorithm. A confusion matrix visualizes and summarizes the performance of a classification algorithm.Confusion matrices are useful because they give direct comparisons of values like True Positives, False Positives, True Negatives and False Negatives."
      ]
    },
    {
      "cell_type": "code",
      "execution_count": null,
      "metadata": {
        "colab": {
          "background_save": true
        },
        "id": "crzFo8YYFLxc",
        "outputId": "1ddc1f9f-01a8-4182-ddf8-3f8b38944e2b"
      },
      "outputs": [
        {
          "data": {
            "text/html": [
              "\n",
              "  <div id=\"df-1f0a7ba5-dfbf-4435-b1ea-d8360ff653ca\">\n",
              "    <div class=\"colab-df-container\">\n",
              "      <div>\n",
              "<style scoped>\n",
              "    .dataframe tbody tr th:only-of-type {\n",
              "        vertical-align: middle;\n",
              "    }\n",
              "\n",
              "    .dataframe tbody tr th {\n",
              "        vertical-align: top;\n",
              "    }\n",
              "\n",
              "    .dataframe thead th {\n",
              "        text-align: right;\n",
              "    }\n",
              "</style>\n",
              "<table border=\"1\" class=\"dataframe\">\n",
              "  <thead>\n",
              "    <tr style=\"text-align: right;\">\n",
              "      <th></th>\n",
              "      <th>Accuracy</th>\n",
              "      <th>AUC</th>\n",
              "      <th>Recall</th>\n",
              "      <th>Prec.</th>\n",
              "      <th>F1</th>\n",
              "      <th>Kappa</th>\n",
              "      <th>MCC</th>\n",
              "    </tr>\n",
              "    <tr>\n",
              "      <th>Fold</th>\n",
              "      <th></th>\n",
              "      <th></th>\n",
              "      <th></th>\n",
              "      <th></th>\n",
              "      <th></th>\n",
              "      <th></th>\n",
              "      <th></th>\n",
              "    </tr>\n",
              "  </thead>\n",
              "  <tbody>\n",
              "    <tr>\n",
              "      <th>0</th>\n",
              "      <td>0.6746</td>\n",
              "      <td>0.7328</td>\n",
              "      <td>0.5672</td>\n",
              "      <td>0.6548</td>\n",
              "      <td>0.6079</td>\n",
              "      <td>0.3323</td>\n",
              "      <td>0.3348</td>\n",
              "    </tr>\n",
              "    <tr>\n",
              "      <th>1</th>\n",
              "      <td>0.6765</td>\n",
              "      <td>0.7337</td>\n",
              "      <td>0.5697</td>\n",
              "      <td>0.6570</td>\n",
              "      <td>0.6103</td>\n",
              "      <td>0.3361</td>\n",
              "      <td>0.3386</td>\n",
              "    </tr>\n",
              "    <tr>\n",
              "      <th>Mean</th>\n",
              "      <td>0.6756</td>\n",
              "      <td>0.7333</td>\n",
              "      <td>0.5685</td>\n",
              "      <td>0.6559</td>\n",
              "      <td>0.6091</td>\n",
              "      <td>0.3342</td>\n",
              "      <td>0.3367</td>\n",
              "    </tr>\n",
              "    <tr>\n",
              "      <th>Std</th>\n",
              "      <td>0.0009</td>\n",
              "      <td>0.0005</td>\n",
              "      <td>0.0013</td>\n",
              "      <td>0.0011</td>\n",
              "      <td>0.0012</td>\n",
              "      <td>0.0019</td>\n",
              "      <td>0.0019</td>\n",
              "    </tr>\n",
              "  </tbody>\n",
              "</table>\n",
              "</div>\n",
              "      <button class=\"colab-df-convert\" onclick=\"convertToInteractive('df-1f0a7ba5-dfbf-4435-b1ea-d8360ff653ca')\"\n",
              "              title=\"Convert this dataframe to an interactive table.\"\n",
              "              style=\"display:none;\">\n",
              "        \n",
              "  <svg xmlns=\"http://www.w3.org/2000/svg\" height=\"24px\"viewBox=\"0 0 24 24\"\n",
              "       width=\"24px\">\n",
              "    <path d=\"M0 0h24v24H0V0z\" fill=\"none\"/>\n",
              "    <path d=\"M18.56 5.44l.94 2.06.94-2.06 2.06-.94-2.06-.94-.94-2.06-.94 2.06-2.06.94zm-11 1L8.5 8.5l.94-2.06 2.06-.94-2.06-.94L8.5 2.5l-.94 2.06-2.06.94zm10 10l.94 2.06.94-2.06 2.06-.94-2.06-.94-.94-2.06-.94 2.06-2.06.94z\"/><path d=\"M17.41 7.96l-1.37-1.37c-.4-.4-.92-.59-1.43-.59-.52 0-1.04.2-1.43.59L10.3 9.45l-7.72 7.72c-.78.78-.78 2.05 0 2.83L4 21.41c.39.39.9.59 1.41.59.51 0 1.02-.2 1.41-.59l7.78-7.78 2.81-2.81c.8-.78.8-2.07 0-2.86zM5.41 20L4 18.59l7.72-7.72 1.47 1.35L5.41 20z\"/>\n",
              "  </svg>\n",
              "      </button>\n",
              "      \n",
              "  <style>\n",
              "    .colab-df-container {\n",
              "      display:flex;\n",
              "      flex-wrap:wrap;\n",
              "      gap: 12px;\n",
              "    }\n",
              "\n",
              "    .colab-df-convert {\n",
              "      background-color: #E8F0FE;\n",
              "      border: none;\n",
              "      border-radius: 50%;\n",
              "      cursor: pointer;\n",
              "      display: none;\n",
              "      fill: #1967D2;\n",
              "      height: 32px;\n",
              "      padding: 0 0 0 0;\n",
              "      width: 32px;\n",
              "    }\n",
              "\n",
              "    .colab-df-convert:hover {\n",
              "      background-color: #E2EBFA;\n",
              "      box-shadow: 0px 1px 2px rgba(60, 64, 67, 0.3), 0px 1px 3px 1px rgba(60, 64, 67, 0.15);\n",
              "      fill: #174EA6;\n",
              "    }\n",
              "\n",
              "    [theme=dark] .colab-df-convert {\n",
              "      background-color: #3B4455;\n",
              "      fill: #D2E3FC;\n",
              "    }\n",
              "\n",
              "    [theme=dark] .colab-df-convert:hover {\n",
              "      background-color: #434B5C;\n",
              "      box-shadow: 0px 1px 3px 1px rgba(0, 0, 0, 0.15);\n",
              "      filter: drop-shadow(0px 1px 2px rgba(0, 0, 0, 0.3));\n",
              "      fill: #FFFFFF;\n",
              "    }\n",
              "  </style>\n",
              "\n",
              "      <script>\n",
              "        const buttonEl =\n",
              "          document.querySelector('#df-1f0a7ba5-dfbf-4435-b1ea-d8360ff653ca button.colab-df-convert');\n",
              "        buttonEl.style.display =\n",
              "          google.colab.kernel.accessAllowed ? 'block' : 'none';\n",
              "\n",
              "        async function convertToInteractive(key) {\n",
              "          const element = document.querySelector('#df-1f0a7ba5-dfbf-4435-b1ea-d8360ff653ca');\n",
              "          const dataTable =\n",
              "            await google.colab.kernel.invokeFunction('convertToInteractive',\n",
              "                                                     [key], {});\n",
              "          if (!dataTable) return;\n",
              "\n",
              "          const docLinkHtml = 'Like what you see? Visit the ' +\n",
              "            '<a target=\"_blank\" href=https://colab.research.google.com/notebooks/data_table.ipynb>data table notebook</a>'\n",
              "            + ' to learn more about interactive tables.';\n",
              "          element.innerHTML = '';\n",
              "          dataTable['output_type'] = 'display_data';\n",
              "          await google.colab.output.renderOutput(dataTable, element);\n",
              "          const docLink = document.createElement('div');\n",
              "          docLink.innerHTML = docLinkHtml;\n",
              "          element.appendChild(docLink);\n",
              "        }\n",
              "      </script>\n",
              "    </div>\n",
              "  </div>\n",
              "  "
            ],
            "text/plain": [
              "      Accuracy     AUC  Recall   Prec.      F1   Kappa     MCC\n",
              "Fold                                                          \n",
              "0       0.6746  0.7328  0.5672  0.6548  0.6079  0.3323  0.3348\n",
              "1       0.6765  0.7337  0.5697  0.6570  0.6103  0.3361  0.3386\n",
              "Mean    0.6756  0.7333  0.5685  0.6559  0.6091  0.3342  0.3367\n",
              "Std     0.0009  0.0005  0.0013  0.0011  0.0012  0.0019  0.0019"
            ]
          },
          "metadata": {},
          "output_type": "display_data"
        },
        {
          "name": "stderr",
          "output_type": "stream",
          "text": [
            "INFO:logs:create_model_container: 12\n",
            "INFO:logs:master_model_container: 12\n",
            "INFO:logs:display_container: 10\n",
            "INFO:logs:RandomForestClassifier(bootstrap=True, ccp_alpha=0.0, class_weight=None,\n",
            "                       criterion='gini', max_depth=None, max_features='auto',\n",
            "                       max_leaf_nodes=None, max_samples=None,\n",
            "                       min_impurity_decrease=0.0, min_impurity_split=None,\n",
            "                       min_samples_leaf=1, min_samples_split=2,\n",
            "                       min_weight_fraction_leaf=0.0, n_estimators=100,\n",
            "                       n_jobs=-1, oob_score=False, random_state=123, verbose=0,\n",
            "                       warm_start=False)\n",
            "INFO:logs:create_model() succesfully completed......................................\n"
          ]
        }
      ],
      "source": [
        "rf = create_model('rf', fold=2)"
      ]
    },
    {
      "cell_type": "code",
      "execution_count": null,
      "metadata": {
        "colab": {
          "background_save": true
        },
        "id": "tc4OMgAOtR0q",
        "outputId": "88e293cd-a014-4a1c-f1ad-726551f78f7a"
      },
      "outputs": [
        {
          "data": {
            "image/png": "[encoded data removed]",
            "text/plain": [
              "<Figure size 576x396 with 1 Axes>"
            ]
          },
          "metadata": {},
          "output_type": "display_data"
        },
        {
          "name": "stderr",
          "output_type": "stream",
          "text": [
            "INFO:logs:Visual Rendered Successfully\n",
            "INFO:logs:plot_model() succesfully completed......................................\n"
          ]
        }
      ],
      "source": [
        "plot_model(rf, plot = 'auc')"
      ]
    },
    {
      "cell_type": "markdown",
      "metadata": {
        "id": "DrPeZvt1rsFS"
      },
      "source": [
        "AUC Analysis:"
      ]
    },
    {
      "cell_type": "code",
      "execution_count": null,
      "metadata": {
        "colab": {
          "background_save": true
        },
        "id": "o1eZ1mPEtbKa",
        "outputId": "b9b9deed-9694-41aa-f277-1acbe9d06057"
      },
      "outputs": [
        {
          "data": {
            "image/png": "[encoded data removed]",
            "text/plain": [
              "<Figure size 576x396 with 1 Axes>"
            ]
          },
          "metadata": {},
          "output_type": "display_data"
        },
        {
          "name": "stderr",
          "output_type": "stream",
          "text": [
            "INFO:logs:Visual Rendered Successfully\n",
            "INFO:logs:plot_model() succesfully completed......................................\n"
          ]
        }
      ],
      "source": [
        "plot_model(rf, plot = 'pr')"
      ]
    },
    {
      "cell_type": "markdown",
      "metadata": {
        "id": "zAXk9x6yrs4a"
      },
      "source": [
        "Precision-Recall Analysis:\n"
      ]
    },
    {
      "cell_type": "code",
      "execution_count": null,
      "metadata": {
        "colab": {
          "background_save": true
        },
        "id": "FLOXbS_vtich",
        "outputId": "196bd302-47c6-4f1e-abf5-cc1a62fe8a0c"
      },
      "outputs": [
        {
          "data": {
            "image/png": "[encoded data removed]",
            "text/plain": [
              "<Figure size 800x500 with 1 Axes>"
            ]
          },
          "metadata": {},
          "output_type": "display_data"
        },
        {
          "name": "stderr",
          "output_type": "stream",
          "text": [
            "INFO:logs:Visual Rendered Successfully\n",
            "INFO:logs:plot_model() succesfully completed......................................\n"
          ]
        }
      ],
      "source": [
        "plot_model(rf, plot='feature')"
      ]
    },
    {
      "cell_type": "markdown",
      "metadata": {
        "id": "VTgenhcYrtuS"
      },
      "source": [
        "Feature Improtance Analysis:\n"
      ]
    },
    {
      "cell_type": "code",
      "execution_count": null,
      "metadata": {
        "colab": {
          "background_save": true
        },
        "id": "TV7HM9-BtpVq",
        "outputId": "4abb6c0e-ec98-4725-91d1-643d4c9fe90b"
      },
      "outputs": [
        {
          "data": {
            "image/png": "[encoded data removed]",
            "text/plain": [
              "<Figure size 576x396 with 1 Axes>"
            ]
          },
          "metadata": {},
          "output_type": "display_data"
        },
        {
          "name": "stderr",
          "output_type": "stream",
          "text": [
            "INFO:logs:Visual Rendered Successfully\n",
            "INFO:logs:plot_model() succesfully completed......................................\n"
          ]
        }
      ],
      "source": [
        "plot_model(rf, plot='confusion_matrix')"
      ]
    },
    {
      "cell_type": "markdown",
      "metadata": {
        "id": "dCINd-2OruMK"
      },
      "source": [
        "Confusion Matrix Analysis:"
      ]
    },
    {
      "cell_type": "markdown",
      "metadata": {
        "id": "5Hb3O_NQE_O2"
      },
      "source": [
        "# Evaluating Our Model\n",
        "\n",
        "Now we have our final model, we will try unseen dataset on our model and evaluate its prediction accuracy."
      ]
    },
    {
      "cell_type": "code",
      "execution_count": null,
      "metadata": {
        "colab": {
          "background_save": true
        },
        "id": "gqn91qdmt4sx",
        "outputId": "64c67fce-9101-46bd-cc62-c38aef082c07"
      },
      "outputs": [
        {
          "data": {
            "text/html": [
              "\n",
              "  <div id=\"df-4332cc9e-a110-4ca7-a259-a46c48650e28\">\n",
              "    <div class=\"colab-df-container\">\n",
              "      <div>\n",
              "<style scoped>\n",
              "    .dataframe tbody tr th:only-of-type {\n",
              "        vertical-align: middle;\n",
              "    }\n",
              "\n",
              "    .dataframe tbody tr th {\n",
              "        vertical-align: top;\n",
              "    }\n",
              "\n",
              "    .dataframe thead th {\n",
              "        text-align: right;\n",
              "    }\n",
              "</style>\n",
              "<table border=\"1\" class=\"dataframe\">\n",
              "  <thead>\n",
              "    <tr style=\"text-align: right;\">\n",
              "      <th></th>\n",
              "      <th>Parameters</th>\n",
              "    </tr>\n",
              "  </thead>\n",
              "  <tbody>\n",
              "    <tr>\n",
              "      <th>bootstrap</th>\n",
              "      <td>True</td>\n",
              "    </tr>\n",
              "    <tr>\n",
              "      <th>ccp_alpha</th>\n",
              "      <td>0.0</td>\n",
              "    </tr>\n",
              "    <tr>\n",
              "      <th>class_weight</th>\n",
              "      <td>None</td>\n",
              "    </tr>\n",
              "    <tr>\n",
              "      <th>criterion</th>\n",
              "      <td>gini</td>\n",
              "    </tr>\n",
              "    <tr>\n",
              "      <th>max_depth</th>\n",
              "      <td>None</td>\n",
              "    </tr>\n",
              "    <tr>\n",
              "      <th>max_features</th>\n",
              "      <td>auto</td>\n",
              "    </tr>\n",
              "    <tr>\n",
              "      <th>max_leaf_nodes</th>\n",
              "      <td>None</td>\n",
              "    </tr>\n",
              "    <tr>\n",
              "      <th>max_samples</th>\n",
              "      <td>None</td>\n",
              "    </tr>\n",
              "    <tr>\n",
              "      <th>min_impurity_decrease</th>\n",
              "      <td>0.0</td>\n",
              "    </tr>\n",
              "    <tr>\n",
              "      <th>min_impurity_split</th>\n",
              "      <td>None</td>\n",
              "    </tr>\n",
              "    <tr>\n",
              "      <th>min_samples_leaf</th>\n",
              "      <td>1</td>\n",
              "    </tr>\n",
              "    <tr>\n",
              "      <th>min_samples_split</th>\n",
              "      <td>2</td>\n",
              "    </tr>\n",
              "    <tr>\n",
              "      <th>min_weight_fraction_leaf</th>\n",
              "      <td>0.0</td>\n",
              "    </tr>\n",
              "    <tr>\n",
              "      <th>n_estimators</th>\n",
              "      <td>100</td>\n",
              "    </tr>\n",
              "    <tr>\n",
              "      <th>n_jobs</th>\n",
              "      <td>-1</td>\n",
              "    </tr>\n",
              "    <tr>\n",
              "      <th>oob_score</th>\n",
              "      <td>False</td>\n",
              "    </tr>\n",
              "    <tr>\n",
              "      <th>random_state</th>\n",
              "      <td>123</td>\n",
              "    </tr>\n",
              "    <tr>\n",
              "      <th>verbose</th>\n",
              "      <td>0</td>\n",
              "    </tr>\n",
              "    <tr>\n",
              "      <th>warm_start</th>\n",
              "      <td>False</td>\n",
              "    </tr>\n",
              "  </tbody>\n",
              "</table>\n",
              "</div>\n",
              "      <button class=\"colab-df-convert\" onclick=\"convertToInteractive('df-4332cc9e-a110-4ca7-a259-a46c48650e28')\"\n",
              "              title=\"Convert this dataframe to an interactive table.\"\n",
              "              style=\"display:none;\">\n",
              "        \n",
              "  <svg xmlns=\"http://www.w3.org/2000/svg\" height=\"24px\"viewBox=\"0 0 24 24\"\n",
              "       width=\"24px\">\n",
              "    <path d=\"M0 0h24v24H0V0z\" fill=\"none\"/>\n",
              "    <path d=\"M18.56 5.44l.94 2.06.94-2.06 2.06-.94-2.06-.94-.94-2.06-.94 2.06-2.06.94zm-11 1L8.5 8.5l.94-2.06 2.06-.94-2.06-.94L8.5 2.5l-.94 2.06-2.06.94zm10 10l.94 2.06.94-2.06 2.06-.94-2.06-.94-.94-2.06-.94 2.06-2.06.94z\"/><path d=\"M17.41 7.96l-1.37-1.37c-.4-.4-.92-.59-1.43-.59-.52 0-1.04.2-1.43.59L10.3 9.45l-7.72 7.72c-.78.78-.78 2.05 0 2.83L4 21.41c.39.39.9.59 1.41.59.51 0 1.02-.2 1.41-.59l7.78-7.78 2.81-2.81c.8-.78.8-2.07 0-2.86zM5.41 20L4 18.59l7.72-7.72 1.47 1.35L5.41 20z\"/>\n",
              "  </svg>\n",
              "      </button>\n",
              "      \n",
              "  <style>\n",
              "    .colab-df-container {\n",
              "      display:flex;\n",
              "      flex-wrap:wrap;\n",
              "      gap: 12px;\n",
              "    }\n",
              "\n",
              "    .colab-df-convert {\n",
              "      background-color: #E8F0FE;\n",
              "      border: none;\n",
              "      border-radius: 50%;\n",
              "      cursor: pointer;\n",
              "      display: none;\n",
              "      fill: #1967D2;\n",
              "      height: 32px;\n",
              "      padding: 0 0 0 0;\n",
              "      width: 32px;\n",
              "    }\n",
              "\n",
              "    .colab-df-convert:hover {\n",
              "      background-color: #E2EBFA;\n",
              "      box-shadow: 0px 1px 2px rgba(60, 64, 67, 0.3), 0px 1px 3px 1px rgba(60, 64, 67, 0.15);\n",
              "      fill: #174EA6;\n",
              "    }\n",
              "\n",
              "    [theme=dark] .colab-df-convert {\n",
              "      background-color: #3B4455;\n",
              "      fill: #D2E3FC;\n",
              "    }\n",
              "\n",
              "    [theme=dark] .colab-df-convert:hover {\n",
              "      background-color: #434B5C;\n",
              "      box-shadow: 0px 1px 3px 1px rgba(0, 0, 0, 0.15);\n",
              "      filter: drop-shadow(0px 1px 2px rgba(0, 0, 0, 0.3));\n",
              "      fill: #FFFFFF;\n",
              "    }\n",
              "  </style>\n",
              "\n",
              "      <script>\n",
              "        const buttonEl =\n",
              "          document.querySelector('#df-4332cc9e-a110-4ca7-a259-a46c48650e28 button.colab-df-convert');\n",
              "        buttonEl.style.display =\n",
              "          google.colab.kernel.accessAllowed ? 'block' : 'none';\n",
              "\n",
              "        async function convertToInteractive(key) {\n",
              "          const element = document.querySelector('#df-4332cc9e-a110-4ca7-a259-a46c48650e28');\n",
              "          const dataTable =\n",
              "            await google.colab.kernel.invokeFunction('convertToInteractive',\n",
              "                                                     [key], {});\n",
              "          if (!dataTable) return;\n",
              "\n",
              "          const docLinkHtml = 'Like what you see? Visit the ' +\n",
              "            '<a target=\"_blank\" href=https://colab.research.google.com/notebooks/data_table.ipynb>data table notebook</a>'\n",
              "            + ' to learn more about interactive tables.';\n",
              "          element.innerHTML = '';\n",
              "          dataTable['output_type'] = 'display_data';\n",
              "          await google.colab.output.renderOutput(dataTable, element);\n",
              "          const docLink = document.createElement('div');\n",
              "          docLink.innerHTML = docLinkHtml;\n",
              "          element.appendChild(docLink);\n",
              "        }\n",
              "      </script>\n",
              "    </div>\n",
              "  </div>\n",
              "  "
            ],
            "text/plain": [
              "                         Parameters\n",
              "bootstrap                      True\n",
              "ccp_alpha                       0.0\n",
              "class_weight                   None\n",
              "criterion                      gini\n",
              "max_depth                      None\n",
              "max_features                   auto\n",
              "max_leaf_nodes                 None\n",
              "max_samples                    None\n",
              "min_impurity_decrease           0.0\n",
              "min_impurity_split             None\n",
              "min_samples_leaf                  1\n",
              "min_samples_split                 2\n",
              "min_weight_fraction_leaf        0.0\n",
              "n_estimators                    100\n",
              "n_jobs                           -1\n",
              "oob_score                     False\n",
              "random_state                    123\n",
              "verbose                           0\n",
              "warm_start                    False"
            ]
          },
          "metadata": {},
          "output_type": "display_data"
        },
        {
          "name": "stderr",
          "output_type": "stream",
          "text": [
            "INFO:logs:Visual Rendered Successfully\n",
            "INFO:logs:plot_model() succesfully completed......................................\n"
          ]
        }
      ],
      "source": [
        "evaluate_model(rf)"
      ]
    },
    {
      "cell_type": "code",
      "execution_count": null,
      "metadata": {
        "colab": {
          "background_save": true
        },
        "id": "NxGqRqg_uGvx",
        "outputId": "c1ba6bdd-1240-4028-f2f6-c846fdd985f5"
      },
      "outputs": [
        {
          "name": "stderr",
          "output_type": "stream",
          "text": [
            "INFO:logs:Initializing predict_model()\n",
            "INFO:logs:predict_model(estimator=RandomForestClassifier(bootstrap=True, ccp_alpha=0.0, class_weight=None,\n",
            "                       criterion='gini', max_depth=None, max_features='auto',\n",
            "                       max_leaf_nodes=None, max_samples=None,\n",
            "                       min_impurity_decrease=0.0, min_impurity_split=None,\n",
            "                       min_samples_leaf=1, min_samples_split=2,\n",
            "                       min_weight_fraction_leaf=0.0, n_estimators=100,\n",
            "                       n_jobs=-1, oob_score=False, random_state=123, verbose=0,\n",
            "                       warm_start=False), probability_threshold=None, encoded_labels=False, drift_report=False, raw_score=False, round=4, verbose=True, ml_usecase=MLUsecase.CLASSIFICATION, display=None, drift_kwargs=None)\n",
            "INFO:logs:Checking exceptions\n",
            "INFO:logs:Preloading libraries\n",
            "INFO:logs:Preparing display monitor\n"
          ]
        },
        {
          "data": {
            "text/html": [
              "\n",
              "  <div id=\"df-6c634457-1c0b-4174-b5c6-c0b9ed453947\">\n",
              "    <div class=\"colab-df-container\">\n",
              "      <div>\n",
              "<style scoped>\n",
              "    .dataframe tbody tr th:only-of-type {\n",
              "        vertical-align: middle;\n",
              "    }\n",
              "\n",
              "    .dataframe tbody tr th {\n",
              "        vertical-align: top;\n",
              "    }\n",
              "\n",
              "    .dataframe thead th {\n",
              "        text-align: right;\n",
              "    }\n",
              "</style>\n",
              "<table border=\"1\" class=\"dataframe\">\n",
              "  <thead>\n",
              "    <tr style=\"text-align: right;\">\n",
              "      <th></th>\n",
              "      <th>Model</th>\n",
              "      <th>Accuracy</th>\n",
              "      <th>AUC</th>\n",
              "      <th>Recall</th>\n",
              "      <th>Prec.</th>\n",
              "      <th>F1</th>\n",
              "      <th>Kappa</th>\n",
              "      <th>MCC</th>\n",
              "    </tr>\n",
              "  </thead>\n",
              "  <tbody>\n",
              "    <tr>\n",
              "      <th>0</th>\n",
              "      <td>Random Forest Classifier</td>\n",
              "      <td>0.678</td>\n",
              "      <td>0.7399</td>\n",
              "      <td>0.5825</td>\n",
              "      <td>0.6577</td>\n",
              "      <td>0.6178</td>\n",
              "      <td>0.3413</td>\n",
              "      <td>0.3432</td>\n",
              "    </tr>\n",
              "  </tbody>\n",
              "</table>\n",
              "</div>\n",
              "      <button class=\"colab-df-convert\" onclick=\"convertToInteractive('df-6c634457-1c0b-4174-b5c6-c0b9ed453947')\"\n",
              "              title=\"Convert this dataframe to an interactive table.\"\n",
              "              style=\"display:none;\">\n",
              "        \n",
              "  <svg xmlns=\"http://www.w3.org/2000/svg\" height=\"24px\"viewBox=\"0 0 24 24\"\n",
              "       width=\"24px\">\n",
              "    <path d=\"M0 0h24v24H0V0z\" fill=\"none\"/>\n",
              "    <path d=\"M18.56 5.44l.94 2.06.94-2.06 2.06-.94-2.06-.94-.94-2.06-.94 2.06-2.06.94zm-11 1L8.5 8.5l.94-2.06 2.06-.94-2.06-.94L8.5 2.5l-.94 2.06-2.06.94zm10 10l.94 2.06.94-2.06 2.06-.94-2.06-.94-.94-2.06-.94 2.06-2.06.94z\"/><path d=\"M17.41 7.96l-1.37-1.37c-.4-.4-.92-.59-1.43-.59-.52 0-1.04.2-1.43.59L10.3 9.45l-7.72 7.72c-.78.78-.78 2.05 0 2.83L4 21.41c.39.39.9.59 1.41.59.51 0 1.02-.2 1.41-.59l7.78-7.78 2.81-2.81c.8-.78.8-2.07 0-2.86zM5.41 20L4 18.59l7.72-7.72 1.47 1.35L5.41 20z\"/>\n",
              "  </svg>\n",
              "      </button>\n",
              "      \n",
              "  <style>\n",
              "    .colab-df-container {\n",
              "      display:flex;\n",
              "      flex-wrap:wrap;\n",
              "      gap: 12px;\n",
              "    }\n",
              "\n",
              "    .colab-df-convert {\n",
              "      background-color: #E8F0FE;\n",
              "      border: none;\n",
              "      border-radius: 50%;\n",
              "      cursor: pointer;\n",
              "      display: none;\n",
              "      fill: #1967D2;\n",
              "      height: 32px;\n",
              "      padding: 0 0 0 0;\n",
              "      width: 32px;\n",
              "    }\n",
              "\n",
              "    .colab-df-convert:hover {\n",
              "      background-color: #E2EBFA;\n",
              "      box-shadow: 0px 1px 2px rgba(60, 64, 67, 0.3), 0px 1px 3px 1px rgba(60, 64, 67, 0.15);\n",
              "      fill: #174EA6;\n",
              "    }\n",
              "\n",
              "    [theme=dark] .colab-df-convert {\n",
              "      background-color: #3B4455;\n",
              "      fill: #D2E3FC;\n",
              "    }\n",
              "\n",
              "    [theme=dark] .colab-df-convert:hover {\n",
              "      background-color: #434B5C;\n",
              "      box-shadow: 0px 1px 3px 1px rgba(0, 0, 0, 0.15);\n",
              "      filter: drop-shadow(0px 1px 2px rgba(0, 0, 0, 0.3));\n",
              "      fill: #FFFFFF;\n",
              "    }\n",
              "  </style>\n",
              "\n",
              "      <script>\n",
              "        const buttonEl =\n",
              "          document.querySelector('#df-6c634457-1c0b-4174-b5c6-c0b9ed453947 button.colab-df-convert');\n",
              "        buttonEl.style.display =\n",
              "          google.colab.kernel.accessAllowed ? 'block' : 'none';\n",
              "\n",
              "        async function convertToInteractive(key) {\n",
              "          const element = document.querySelector('#df-6c634457-1c0b-4174-b5c6-c0b9ed453947');\n",
              "          const dataTable =\n",
              "            await google.colab.kernel.invokeFunction('convertToInteractive',\n",
              "                                                     [key], {});\n",
              "          if (!dataTable) return;\n",
              "\n",
              "          const docLinkHtml = 'Like what you see? Visit the ' +\n",
              "            '<a target=\"_blank\" href=https://colab.research.google.com/notebooks/data_table.ipynb>data table notebook</a>'\n",
              "            + ' to learn more about interactive tables.';\n",
              "          element.innerHTML = '';\n",
              "          dataTable['output_type'] = 'display_data';\n",
              "          await google.colab.output.renderOutput(dataTable, element);\n",
              "          const docLink = document.createElement('div');\n",
              "          docLink.innerHTML = docLinkHtml;\n",
              "          element.appendChild(docLink);\n",
              "        }\n",
              "      </script>\n",
              "    </div>\n",
              "  </div>\n",
              "  "
            ],
            "text/plain": [
              "                      Model  Accuracy     AUC  Recall   Prec.      F1   Kappa  \\\n",
              "0  Random Forest Classifier     0.678  0.7399  0.5825  0.6577  0.6178  0.3413   \n",
              "\n",
              "      MCC  \n",
              "0  0.3432  "
            ]
          },
          "metadata": {},
          "output_type": "display_data"
        },
        {
          "data": {
            "text/html": [
              "\n",
              "  <div id=\"df-79596529-0ad7-47b3-81e5-d6cf5fb17dd1\">\n",
              "    <div class=\"colab-df-container\">\n",
              "      <div>\n",
              "<style scoped>\n",
              "    .dataframe tbody tr th:only-of-type {\n",
              "        vertical-align: middle;\n",
              "    }\n",
              "\n",
              "    .dataframe tbody tr th {\n",
              "        vertical-align: top;\n",
              "    }\n",
              "\n",
              "    .dataframe thead th {\n",
              "        text-align: right;\n",
              "    }\n",
              "</style>\n",
              "<table border=\"1\" class=\"dataframe\">\n",
              "  <thead>\n",
              "    <tr style=\"text-align: right;\">\n",
              "      <th></th>\n",
              "      <th>id</th>\n",
              "      <th>Flight</th>\n",
              "      <th>Length</th>\n",
              "      <th>Hour_full</th>\n",
              "      <th>Minutes</th>\n",
              "      <th>Length_hour</th>\n",
              "      <th>Airline_9E</th>\n",
              "      <th>Airline_AA</th>\n",
              "      <th>Airline_AS</th>\n",
              "      <th>Airline_B6</th>\n",
              "      <th>...</th>\n",
              "      <th>DayOfWeek_1</th>\n",
              "      <th>DayOfWeek_2</th>\n",
              "      <th>DayOfWeek_3</th>\n",
              "      <th>DayOfWeek_4</th>\n",
              "      <th>DayOfWeek_5</th>\n",
              "      <th>DayOfWeek_6</th>\n",
              "      <th>DayOfWeek_7</th>\n",
              "      <th>Delay</th>\n",
              "      <th>Label</th>\n",
              "      <th>Score</th>\n",
              "    </tr>\n",
              "  </thead>\n",
              "  <tbody>\n",
              "    <tr>\n",
              "      <th>0</th>\n",
              "      <td>1.043443</td>\n",
              "      <td>0.193641</td>\n",
              "      <td>0.704340</td>\n",
              "      <td>-1.665427</td>\n",
              "      <td>1.309648</td>\n",
              "      <td>0.886064</td>\n",
              "      <td>0.0</td>\n",
              "      <td>0.0</td>\n",
              "      <td>0.0</td>\n",
              "      <td>0.0</td>\n",
              "      <td>...</td>\n",
              "      <td>0.0</td>\n",
              "      <td>0.0</td>\n",
              "      <td>0.0</td>\n",
              "      <td>0.0</td>\n",
              "      <td>0.0</td>\n",
              "      <td>0.0</td>\n",
              "      <td>1.0</td>\n",
              "      <td>0</td>\n",
              "      <td>1</td>\n",
              "      <td>0.56</td>\n",
              "    </tr>\n",
              "    <tr>\n",
              "      <th>1</th>\n",
              "      <td>-1.476886</td>\n",
              "      <td>-1.402037</td>\n",
              "      <td>-2.280328</td>\n",
              "      <td>-0.924873</td>\n",
              "      <td>-1.221346</td>\n",
              "      <td>-1.258660</td>\n",
              "      <td>0.0</td>\n",
              "      <td>0.0</td>\n",
              "      <td>0.0</td>\n",
              "      <td>0.0</td>\n",
              "      <td>...</td>\n",
              "      <td>0.0</td>\n",
              "      <td>0.0</td>\n",
              "      <td>0.0</td>\n",
              "      <td>0.0</td>\n",
              "      <td>1.0</td>\n",
              "      <td>0.0</td>\n",
              "      <td>0.0</td>\n",
              "      <td>0</td>\n",
              "      <td>0</td>\n",
              "      <td>0.68</td>\n",
              "    </tr>\n",
              "    <tr>\n",
              "      <th>2</th>\n",
              "      <td>0.782700</td>\n",
              "      <td>-0.643015</td>\n",
              "      <td>-0.750065</td>\n",
              "      <td>-0.304608</td>\n",
              "      <td>1.418226</td>\n",
              "      <td>-1.258660</td>\n",
              "      <td>0.0</td>\n",
              "      <td>0.0</td>\n",
              "      <td>0.0</td>\n",
              "      <td>0.0</td>\n",
              "      <td>...</td>\n",
              "      <td>0.0</td>\n",
              "      <td>0.0</td>\n",
              "      <td>0.0</td>\n",
              "      <td>1.0</td>\n",
              "      <td>0.0</td>\n",
              "      <td>0.0</td>\n",
              "      <td>0.0</td>\n",
              "      <td>0</td>\n",
              "      <td>0</td>\n",
              "      <td>0.66</td>\n",
              "    </tr>\n",
              "    <tr>\n",
              "      <th>3</th>\n",
              "      <td>0.675620</td>\n",
              "      <td>0.175292</td>\n",
              "      <td>-0.215545</td>\n",
              "      <td>0.051213</td>\n",
              "      <td>0.209063</td>\n",
              "      <td>0.085855</td>\n",
              "      <td>0.0</td>\n",
              "      <td>0.0</td>\n",
              "      <td>0.0</td>\n",
              "      <td>0.0</td>\n",
              "      <td>...</td>\n",
              "      <td>0.0</td>\n",
              "      <td>0.0</td>\n",
              "      <td>1.0</td>\n",
              "      <td>0.0</td>\n",
              "      <td>0.0</td>\n",
              "      <td>0.0</td>\n",
              "      <td>0.0</td>\n",
              "      <td>1</td>\n",
              "      <td>1</td>\n",
              "      <td>1.00</td>\n",
              "    </tr>\n",
              "    <tr>\n",
              "      <th>4</th>\n",
              "      <td>-0.308163</td>\n",
              "      <td>1.768569</td>\n",
              "      <td>-1.110832</td>\n",
              "      <td>1.322894</td>\n",
              "      <td>0.487231</td>\n",
              "      <td>-1.258660</td>\n",
              "      <td>0.0</td>\n",
              "      <td>0.0</td>\n",
              "      <td>0.0</td>\n",
              "      <td>0.0</td>\n",
              "      <td>...</td>\n",
              "      <td>1.0</td>\n",
              "      <td>0.0</td>\n",
              "      <td>0.0</td>\n",
              "      <td>0.0</td>\n",
              "      <td>0.0</td>\n",
              "      <td>0.0</td>\n",
              "      <td>0.0</td>\n",
              "      <td>1</td>\n",
              "      <td>0</td>\n",
              "      <td>0.56</td>\n",
              "    </tr>\n",
              "    <tr>\n",
              "      <th>...</th>\n",
              "      <td>...</td>\n",
              "      <td>...</td>\n",
              "      <td>...</td>\n",
              "      <td>...</td>\n",
              "      <td>...</td>\n",
              "      <td>...</td>\n",
              "      <td>...</td>\n",
              "      <td>...</td>\n",
              "      <td>...</td>\n",
              "      <td>...</td>\n",
              "      <td>...</td>\n",
              "      <td>...</td>\n",
              "      <td>...</td>\n",
              "      <td>...</td>\n",
              "      <td>...</td>\n",
              "      <td>...</td>\n",
              "      <td>...</td>\n",
              "      <td>...</td>\n",
              "      <td>...</td>\n",
              "      <td>...</td>\n",
              "      <td>...</td>\n",
              "    </tr>\n",
              "    <tr>\n",
              "      <th>153720</th>\n",
              "      <td>-1.110081</td>\n",
              "      <td>0.069950</td>\n",
              "      <td>1.650434</td>\n",
              "      <td>0.512154</td>\n",
              "      <td>0.763151</td>\n",
              "      <td>1.409578</td>\n",
              "      <td>0.0</td>\n",
              "      <td>0.0</td>\n",
              "      <td>0.0</td>\n",
              "      <td>0.0</td>\n",
              "      <td>...</td>\n",
              "      <td>1.0</td>\n",
              "      <td>0.0</td>\n",
              "      <td>0.0</td>\n",
              "      <td>0.0</td>\n",
              "      <td>0.0</td>\n",
              "      <td>0.0</td>\n",
              "      <td>0.0</td>\n",
              "      <td>0</td>\n",
              "      <td>0</td>\n",
              "      <td>0.59</td>\n",
              "    </tr>\n",
              "    <tr>\n",
              "      <th>153721</th>\n",
              "      <td>0.629391</td>\n",
              "      <td>-0.056857</td>\n",
              "      <td>-0.128767</td>\n",
              "      <td>-1.321769</td>\n",
              "      <td>-0.355906</td>\n",
              "      <td>0.085855</td>\n",
              "      <td>0.0</td>\n",
              "      <td>0.0</td>\n",
              "      <td>0.0</td>\n",
              "      <td>0.0</td>\n",
              "      <td>...</td>\n",
              "      <td>0.0</td>\n",
              "      <td>0.0</td>\n",
              "      <td>1.0</td>\n",
              "      <td>0.0</td>\n",
              "      <td>0.0</td>\n",
              "      <td>0.0</td>\n",
              "      <td>0.0</td>\n",
              "      <td>1</td>\n",
              "      <td>0</td>\n",
              "      <td>0.64</td>\n",
              "    </tr>\n",
              "    <tr>\n",
              "      <th>153722</th>\n",
              "      <td>-0.821765</td>\n",
              "      <td>-0.453433</td>\n",
              "      <td>1.712203</td>\n",
              "      <td>-0.981281</td>\n",
              "      <td>1.309648</td>\n",
              "      <td>1.807603</td>\n",
              "      <td>0.0</td>\n",
              "      <td>0.0</td>\n",
              "      <td>0.0</td>\n",
              "      <td>1.0</td>\n",
              "      <td>...</td>\n",
              "      <td>0.0</td>\n",
              "      <td>0.0</td>\n",
              "      <td>0.0</td>\n",
              "      <td>1.0</td>\n",
              "      <td>0.0</td>\n",
              "      <td>0.0</td>\n",
              "      <td>0.0</td>\n",
              "      <td>1</td>\n",
              "      <td>0</td>\n",
              "      <td>0.80</td>\n",
              "    </tr>\n",
              "    <tr>\n",
              "      <th>153723</th>\n",
              "      <td>-1.478236</td>\n",
              "      <td>-0.010262</td>\n",
              "      <td>0.339513</td>\n",
              "      <td>-0.962467</td>\n",
              "      <td>1.580698</td>\n",
              "      <td>0.085855</td>\n",
              "      <td>0.0</td>\n",
              "      <td>0.0</td>\n",
              "      <td>0.0</td>\n",
              "      <td>0.0</td>\n",
              "      <td>...</td>\n",
              "      <td>0.0</td>\n",
              "      <td>0.0</td>\n",
              "      <td>0.0</td>\n",
              "      <td>0.0</td>\n",
              "      <td>1.0</td>\n",
              "      <td>0.0</td>\n",
              "      <td>0.0</td>\n",
              "      <td>0</td>\n",
              "      <td>0</td>\n",
              "      <td>0.80</td>\n",
              "    </tr>\n",
              "    <tr>\n",
              "      <th>153724</th>\n",
              "      <td>0.282552</td>\n",
              "      <td>-0.614665</td>\n",
              "      <td>-0.215545</td>\n",
              "      <td>-1.170024</td>\n",
              "      <td>-1.513284</td>\n",
              "      <td>0.085855</td>\n",
              "      <td>0.0</td>\n",
              "      <td>0.0</td>\n",
              "      <td>0.0</td>\n",
              "      <td>0.0</td>\n",
              "      <td>...</td>\n",
              "      <td>0.0</td>\n",
              "      <td>0.0</td>\n",
              "      <td>0.0</td>\n",
              "      <td>0.0</td>\n",
              "      <td>0.0</td>\n",
              "      <td>0.0</td>\n",
              "      <td>1.0</td>\n",
              "      <td>1</td>\n",
              "      <td>0</td>\n",
              "      <td>0.50</td>\n",
              "    </tr>\n",
              "  </tbody>\n",
              "</table>\n",
              "<p>153725 rows × 594 columns</p>\n",
              "</div>\n",
              "      <button class=\"colab-df-convert\" onclick=\"convertToInteractive('df-79596529-0ad7-47b3-81e5-d6cf5fb17dd1')\"\n",
              "              title=\"Convert this dataframe to an interactive table.\"\n",
              "              style=\"display:none;\">\n",
              "        \n",
              "  <svg xmlns=\"http://www.w3.org/2000/svg\" height=\"24px\"viewBox=\"0 0 24 24\"\n",
              "       width=\"24px\">\n",
              "    <path d=\"M0 0h24v24H0V0z\" fill=\"none\"/>\n",
              "    <path d=\"M18.56 5.44l.94 2.06.94-2.06 2.06-.94-2.06-.94-.94-2.06-.94 2.06-2.06.94zm-11 1L8.5 8.5l.94-2.06 2.06-.94-2.06-.94L8.5 2.5l-.94 2.06-2.06.94zm10 10l.94 2.06.94-2.06 2.06-.94-2.06-.94-.94-2.06-.94 2.06-2.06.94z\"/><path d=\"M17.41 7.96l-1.37-1.37c-.4-.4-.92-.59-1.43-.59-.52 0-1.04.2-1.43.59L10.3 9.45l-7.72 7.72c-.78.78-.78 2.05 0 2.83L4 21.41c.39.39.9.59 1.41.59.51 0 1.02-.2 1.41-.59l7.78-7.78 2.81-2.81c.8-.78.8-2.07 0-2.86zM5.41 20L4 18.59l7.72-7.72 1.47 1.35L5.41 20z\"/>\n",
              "  </svg>\n",
              "      </button>\n",
              "      \n",
              "  <style>\n",
              "    .colab-df-container {\n",
              "      display:flex;\n",
              "      flex-wrap:wrap;\n",
              "      gap: 12px;\n",
              "    }\n",
              "\n",
              "    .colab-df-convert {\n",
              "      background-color: #E8F0FE;\n",
              "      border: none;\n",
              "      border-radius: 50%;\n",
              "      cursor: pointer;\n",
              "      display: none;\n",
              "      fill: #1967D2;\n",
              "      height: 32px;\n",
              "      padding: 0 0 0 0;\n",
              "      width: 32px;\n",
              "    }\n",
              "\n",
              "    .colab-df-convert:hover {\n",
              "      background-color: #E2EBFA;\n",
              "      box-shadow: 0px 1px 2px rgba(60, 64, 67, 0.3), 0px 1px 3px 1px rgba(60, 64, 67, 0.15);\n",
              "      fill: #174EA6;\n",
              "    }\n",
              "\n",
              "    [theme=dark] .colab-df-convert {\n",
              "      background-color: #3B4455;\n",
              "      fill: #D2E3FC;\n",
              "    }\n",
              "\n",
              "    [theme=dark] .colab-df-convert:hover {\n",
              "      background-color: #434B5C;\n",
              "      box-shadow: 0px 1px 3px 1px rgba(0, 0, 0, 0.15);\n",
              "      filter: drop-shadow(0px 1px 2px rgba(0, 0, 0, 0.3));\n",
              "      fill: #FFFFFF;\n",
              "    }\n",
              "  </style>\n",
              "\n",
              "      <script>\n",
              "        const buttonEl =\n",
              "          document.querySelector('#df-79596529-0ad7-47b3-81e5-d6cf5fb17dd1 button.colab-df-convert');\n",
              "        buttonEl.style.display =\n",
              "          google.colab.kernel.accessAllowed ? 'block' : 'none';\n",
              "\n",
              "        async function convertToInteractive(key) {\n",
              "          const element = document.querySelector('#df-79596529-0ad7-47b3-81e5-d6cf5fb17dd1');\n",
              "          const dataTable =\n",
              "            await google.colab.kernel.invokeFunction('convertToInteractive',\n",
              "                                                     [key], {});\n",
              "          if (!dataTable) return;\n",
              "\n",
              "          const docLinkHtml = 'Like what you see? Visit the ' +\n",
              "            '<a target=\"_blank\" href=https://colab.research.google.com/notebooks/data_table.ipynb>data table notebook</a>'\n",
              "            + ' to learn more about interactive tables.';\n",
              "          element.innerHTML = '';\n",
              "          dataTable['output_type'] = 'display_data';\n",
              "          await google.colab.output.renderOutput(dataTable, element);\n",
              "          const docLink = document.createElement('div');\n",
              "          docLink.innerHTML = docLinkHtml;\n",
              "          element.appendChild(docLink);\n",
              "        }\n",
              "      </script>\n",
              "    </div>\n",
              "  </div>\n",
              "  "
            ],
            "text/plain": [
              "              id    Flight    Length  Hour_full   Minutes  Length_hour  \\\n",
              "0       1.043443  0.193641  0.704340  -1.665427  1.309648     0.886064   \n",
              "1      -1.476886 -1.402037 -2.280328  -0.924873 -1.221346    -1.258660   \n",
              "2       0.782700 -0.643015 -0.750065  -0.304608  1.418226    -1.258660   \n",
              "3       0.675620  0.175292 -0.215545   0.051213  0.209063     0.085855   \n",
              "4      -0.308163  1.768569 -1.110832   1.322894  0.487231    -1.258660   \n",
              "...          ...       ...       ...        ...       ...          ...   \n",
              "153720 -1.110081  0.069950  1.650434   0.512154  0.763151     1.409578   \n",
              "153721  0.629391 -0.056857 -0.128767  -1.321769 -0.355906     0.085855   \n",
              "153722 -0.821765 -0.453433  1.712203  -0.981281  1.309648     1.807603   \n",
              "153723 -1.478236 -0.010262  0.339513  -0.962467  1.580698     0.085855   \n",
              "153724  0.282552 -0.614665 -0.215545  -1.170024 -1.513284     0.085855   \n",
              "\n",
              "        Airline_9E  Airline_AA  Airline_AS  Airline_B6  ...  DayOfWeek_1  \\\n",
              "0              0.0         0.0         0.0         0.0  ...          0.0   \n",
              "1              0.0         0.0         0.0         0.0  ...          0.0   \n",
              "2              0.0         0.0         0.0         0.0  ...          0.0   \n",
              "3              0.0         0.0         0.0         0.0  ...          0.0   \n",
              "4              0.0         0.0         0.0         0.0  ...          1.0   \n",
              "...            ...         ...         ...         ...  ...          ...   \n",
              "153720         0.0         0.0         0.0         0.0  ...          1.0   \n",
              "153721         0.0         0.0         0.0         0.0  ...          0.0   \n",
              "153722         0.0         0.0         0.0         1.0  ...          0.0   \n",
              "153723         0.0         0.0         0.0         0.0  ...          0.0   \n",
              "153724         0.0         0.0         0.0         0.0  ...          0.0   \n",
              "\n",
              "        DayOfWeek_2  DayOfWeek_3  DayOfWeek_4  DayOfWeek_5  DayOfWeek_6  \\\n",
              "0               0.0          0.0          0.0          0.0          0.0   \n",
              "1               0.0          0.0          0.0          1.0          0.0   \n",
              "2               0.0          0.0          1.0          0.0          0.0   \n",
              "3               0.0          1.0          0.0          0.0          0.0   \n",
              "4               0.0          0.0          0.0          0.0          0.0   \n",
              "...             ...          ...          ...          ...          ...   \n",
              "153720          0.0          0.0          0.0          0.0          0.0   \n",
              "153721          0.0          1.0          0.0          0.0          0.0   \n",
              "153722          0.0          0.0          1.0          0.0          0.0   \n",
              "153723          0.0          0.0          0.0          1.0          0.0   \n",
              "153724          0.0          0.0          0.0          0.0          0.0   \n",
              "\n",
              "        DayOfWeek_7  Delay  Label  Score  \n",
              "0               1.0      0      1   0.56  \n",
              "1               0.0      0      0   0.68  \n",
              "2               0.0      0      0   0.66  \n",
              "3               0.0      1      1   1.00  \n",
              "4               0.0      1      0   0.56  \n",
              "...             ...    ...    ...    ...  \n",
              "153720          0.0      0      0   0.59  \n",
              "153721          0.0      1      0   0.64  \n",
              "153722          0.0      1      0   0.80  \n",
              "153723          0.0      0      0   0.80  \n",
              "153724          1.0      1      0   0.50  \n",
              "\n",
              "[153725 rows x 594 columns]"
            ]
          },
          "execution_count": 38,
          "metadata": {},
          "output_type": "execute_result"
        }
      ],
      "source": [
        "predict_model(rf)"
      ]
    },
    {
      "cell_type": "code",
      "execution_count": null,
      "metadata": {
        "id": "Oy9cg8NouYsf"
      },
      "outputs": [],
      "source": [
        "final_rf = finalize_model(rf)"
      ]
    },
    {
      "cell_type": "code",
      "execution_count": null,
      "metadata": {
        "id": "hMd3rLG7zZ3q"
      },
      "outputs": [],
      "source": [
        "print(final_rf)"
      ]
    },
    {
      "cell_type": "code",
      "execution_count": null,
      "metadata": {
        "id": "UXCudDpozdno"
      },
      "outputs": [],
      "source": [
        "unseen_predictions = predict_model(final_rf, data=data_unseen)\n",
        "unseen_predictions.head()"
      ]
    },
    {
      "cell_type": "code",
      "execution_count": null,
      "metadata": {
        "id": "qxG4tUHj08A2"
      },
      "outputs": [],
      "source": [
        "from pycaret.utils import check_metric\n",
        "check_metric(unseen_predictions['Delay'], unseen_predictions['Label'], metric = 'Accuracy')"
      ]
    },
    {
      "cell_type": "markdown",
      "metadata": {
        "id": "N9qrVlV0GfKU"
      },
      "source": [
        "Here, we can see that our model has the accuracy rate of '' on unseen dataset. "
      ]
    },
    {
      "cell_type": "code",
      "execution_count": null,
      "metadata": {
        "id": "DfWBrbxh1Wom"
      },
      "outputs": [],
      "source": [
        "save_model(final_rf,'Final DT Model 4Oct2022')"
      ]
    },
    {
      "cell_type": "markdown",
      "metadata": {
        "id": "K940y_HMGkmr"
      },
      "source": [
        "# Conclusion"
      ]
    },
    {
      "cell_type": "markdown",
      "metadata": {
        "id": "ceVrueBMGv2L"
      },
      "source": [
        "## What we learned from Assignment 1:"
      ]
    },
    {
      "cell_type": "markdown",
      "metadata": {
        "id": "Busex8bsGri6"
      },
      "source": [
        "## What can be improved for the future assignments:"
      ]
    }
  ],
  "metadata": {
    "colab": {
      "collapsed_sections": [],
      "provenance": [],
      "include_colab_link": true
    },
    "kernelspec": {
      "display_name": "Python 3",
      "name": "python3"
    },
    "language_info": {
      "name": "python"
    }
  },
  "nbformat": 4,
  "nbformat_minor": 0
}